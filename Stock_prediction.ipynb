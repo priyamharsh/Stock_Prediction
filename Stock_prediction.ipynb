{
  "cells": [
    {
      "cell_type": "markdown",
      "metadata": {
        "id": "ttkcCbqpaSzg"
      },
      "source": [
        "## Importing the necessary libraries"
      ]
    },
    {
      "cell_type": "code",
      "execution_count": 1,
      "metadata": {
        "id": "iQNHRVIf0Qid"
      },
      "outputs": [],
      "source": [
        "import numpy as np\n",
        "import pandas as pd\n",
        "import matplotlib.pyplot as plt"
      ]
    },
    {
      "cell_type": "markdown",
      "metadata": {
        "id": "VuWn8g1yJHH5"
      },
      "source": [
        "## Getting the data"
      ]
    },
    {
      "cell_type": "markdown",
      "metadata": {
        "id": "lHrZgE31JHH7"
      },
      "source": [
        "We scrape the data from Yahoo finance by passing the stock ticker and the start and end time."
      ]
    },
    {
      "cell_type": "code",
      "execution_count": 2,
      "metadata": {
        "colab": {
          "base_uri": "https://localhost:8080/",
          "height": 296
        },
        "id": "YZwaVlnp0Qix",
        "outputId": "22cb60d1-7bf6-4794-a667-b75d2ab450ae"
      },
      "outputs": [
        {
          "output_type": "stream",
          "name": "stderr",
          "text": [
            "/usr/local/lib/python3.7/dist-packages/ipykernel_launcher.py:2: FutureWarning: casting datetime64[ns] values to int64 with .astype(...) is deprecated and will raise in a future version. Use .view(...) instead.\n",
            "  \n",
            "/usr/local/lib/python3.7/dist-packages/ipykernel_launcher.py:3: FutureWarning: casting datetime64[ns] values to int64 with .astype(...) is deprecated and will raise in a future version. Use .view(...) instead.\n",
            "  This is separate from the ipykernel package so we can avoid doing imports until\n"
          ]
        },
        {
          "output_type": "execute_result",
          "data": {
            "text/plain": [
              "            Date        Open        High         Low       Close   Adj Close  \\\n",
              "3846  2022-04-12  168.020004  169.869995  166.639999  167.660004  167.660004   \n",
              "3847  2022-04-13  167.389999  171.039993  166.770004  170.399994  170.399994   \n",
              "3848  2022-04-14  170.619995  171.270004  165.039993  165.289993  165.289993   \n",
              "3849  2022-04-18  163.919998  166.600006  163.570007  165.070007  165.070007   \n",
              "3850  2022-04-19  165.020004  167.820007  163.910004  167.399994  167.399994   \n",
              "\n",
              "        Volume  \n",
              "3846  79265200  \n",
              "3847  70618900  \n",
              "3848  75237500  \n",
              "3849  69023900  \n",
              "3850  67723800  "
            ],
            "text/html": [
              "\n",
              "  <div id=\"df-a03363d9-07b7-42b6-bb57-e22f836ff1e4\">\n",
              "    <div class=\"colab-df-container\">\n",
              "      <div>\n",
              "<style scoped>\n",
              "    .dataframe tbody tr th:only-of-type {\n",
              "        vertical-align: middle;\n",
              "    }\n",
              "\n",
              "    .dataframe tbody tr th {\n",
              "        vertical-align: top;\n",
              "    }\n",
              "\n",
              "    .dataframe thead th {\n",
              "        text-align: right;\n",
              "    }\n",
              "</style>\n",
              "<table border=\"1\" class=\"dataframe\">\n",
              "  <thead>\n",
              "    <tr style=\"text-align: right;\">\n",
              "      <th></th>\n",
              "      <th>Date</th>\n",
              "      <th>Open</th>\n",
              "      <th>High</th>\n",
              "      <th>Low</th>\n",
              "      <th>Close</th>\n",
              "      <th>Adj Close</th>\n",
              "      <th>Volume</th>\n",
              "    </tr>\n",
              "  </thead>\n",
              "  <tbody>\n",
              "    <tr>\n",
              "      <th>3846</th>\n",
              "      <td>2022-04-12</td>\n",
              "      <td>168.020004</td>\n",
              "      <td>169.869995</td>\n",
              "      <td>166.639999</td>\n",
              "      <td>167.660004</td>\n",
              "      <td>167.660004</td>\n",
              "      <td>79265200</td>\n",
              "    </tr>\n",
              "    <tr>\n",
              "      <th>3847</th>\n",
              "      <td>2022-04-13</td>\n",
              "      <td>167.389999</td>\n",
              "      <td>171.039993</td>\n",
              "      <td>166.770004</td>\n",
              "      <td>170.399994</td>\n",
              "      <td>170.399994</td>\n",
              "      <td>70618900</td>\n",
              "    </tr>\n",
              "    <tr>\n",
              "      <th>3848</th>\n",
              "      <td>2022-04-14</td>\n",
              "      <td>170.619995</td>\n",
              "      <td>171.270004</td>\n",
              "      <td>165.039993</td>\n",
              "      <td>165.289993</td>\n",
              "      <td>165.289993</td>\n",
              "      <td>75237500</td>\n",
              "    </tr>\n",
              "    <tr>\n",
              "      <th>3849</th>\n",
              "      <td>2022-04-18</td>\n",
              "      <td>163.919998</td>\n",
              "      <td>166.600006</td>\n",
              "      <td>163.570007</td>\n",
              "      <td>165.070007</td>\n",
              "      <td>165.070007</td>\n",
              "      <td>69023900</td>\n",
              "    </tr>\n",
              "    <tr>\n",
              "      <th>3850</th>\n",
              "      <td>2022-04-19</td>\n",
              "      <td>165.020004</td>\n",
              "      <td>167.820007</td>\n",
              "      <td>163.910004</td>\n",
              "      <td>167.399994</td>\n",
              "      <td>167.399994</td>\n",
              "      <td>67723800</td>\n",
              "    </tr>\n",
              "  </tbody>\n",
              "</table>\n",
              "</div>\n",
              "      <button class=\"colab-df-convert\" onclick=\"convertToInteractive('df-a03363d9-07b7-42b6-bb57-e22f836ff1e4')\"\n",
              "              title=\"Convert this dataframe to an interactive table.\"\n",
              "              style=\"display:none;\">\n",
              "        \n",
              "  <svg xmlns=\"http://www.w3.org/2000/svg\" height=\"24px\"viewBox=\"0 0 24 24\"\n",
              "       width=\"24px\">\n",
              "    <path d=\"M0 0h24v24H0V0z\" fill=\"none\"/>\n",
              "    <path d=\"M18.56 5.44l.94 2.06.94-2.06 2.06-.94-2.06-.94-.94-2.06-.94 2.06-2.06.94zm-11 1L8.5 8.5l.94-2.06 2.06-.94-2.06-.94L8.5 2.5l-.94 2.06-2.06.94zm10 10l.94 2.06.94-2.06 2.06-.94-2.06-.94-.94-2.06-.94 2.06-2.06.94z\"/><path d=\"M17.41 7.96l-1.37-1.37c-.4-.4-.92-.59-1.43-.59-.52 0-1.04.2-1.43.59L10.3 9.45l-7.72 7.72c-.78.78-.78 2.05 0 2.83L4 21.41c.39.39.9.59 1.41.59.51 0 1.02-.2 1.41-.59l7.78-7.78 2.81-2.81c.8-.78.8-2.07 0-2.86zM5.41 20L4 18.59l7.72-7.72 1.47 1.35L5.41 20z\"/>\n",
              "  </svg>\n",
              "      </button>\n",
              "      \n",
              "  <style>\n",
              "    .colab-df-container {\n",
              "      display:flex;\n",
              "      flex-wrap:wrap;\n",
              "      gap: 12px;\n",
              "    }\n",
              "\n",
              "    .colab-df-convert {\n",
              "      background-color: #E8F0FE;\n",
              "      border: none;\n",
              "      border-radius: 50%;\n",
              "      cursor: pointer;\n",
              "      display: none;\n",
              "      fill: #1967D2;\n",
              "      height: 32px;\n",
              "      padding: 0 0 0 0;\n",
              "      width: 32px;\n",
              "    }\n",
              "\n",
              "    .colab-df-convert:hover {\n",
              "      background-color: #E2EBFA;\n",
              "      box-shadow: 0px 1px 2px rgba(60, 64, 67, 0.3), 0px 1px 3px 1px rgba(60, 64, 67, 0.15);\n",
              "      fill: #174EA6;\n",
              "    }\n",
              "\n",
              "    [theme=dark] .colab-df-convert {\n",
              "      background-color: #3B4455;\n",
              "      fill: #D2E3FC;\n",
              "    }\n",
              "\n",
              "    [theme=dark] .colab-df-convert:hover {\n",
              "      background-color: #434B5C;\n",
              "      box-shadow: 0px 1px 3px 1px rgba(0, 0, 0, 0.15);\n",
              "      filter: drop-shadow(0px 1px 2px rgba(0, 0, 0, 0.3));\n",
              "      fill: #FFFFFF;\n",
              "    }\n",
              "  </style>\n",
              "\n",
              "      <script>\n",
              "        const buttonEl =\n",
              "          document.querySelector('#df-a03363d9-07b7-42b6-bb57-e22f836ff1e4 button.colab-df-convert');\n",
              "        buttonEl.style.display =\n",
              "          google.colab.kernel.accessAllowed ? 'block' : 'none';\n",
              "\n",
              "        async function convertToInteractive(key) {\n",
              "          const element = document.querySelector('#df-a03363d9-07b7-42b6-bb57-e22f836ff1e4');\n",
              "          const dataTable =\n",
              "            await google.colab.kernel.invokeFunction('convertToInteractive',\n",
              "                                                     [key], {});\n",
              "          if (!dataTable) return;\n",
              "\n",
              "          const docLinkHtml = 'Like what you see? Visit the ' +\n",
              "            '<a target=\"_blank\" href=https://colab.research.google.com/notebooks/data_table.ipynb>data table notebook</a>'\n",
              "            + ' to learn more about interactive tables.';\n",
              "          element.innerHTML = '';\n",
              "          dataTable['output_type'] = 'display_data';\n",
              "          await google.colab.output.renderOutput(dataTable, element);\n",
              "          const docLink = document.createElement('div');\n",
              "          docLink.innerHTML = docLinkHtml;\n",
              "          element.appendChild(docLink);\n",
              "        }\n",
              "      </script>\n",
              "    </div>\n",
              "  </div>\n",
              "  "
            ]
          },
          "metadata": {},
          "execution_count": 2
        }
      ],
      "source": [
        "stock_ticker = 'AAPL'\n",
        "start = pd.to_datetime(['2007-01-01']).astype(int)[0]//10**9 # convert to unix timestamp.\n",
        "end = pd.to_datetime(['2022-04-20']).astype(int)[0]//10**9 # convert to unix timestamp.\n",
        "url = 'https://query1.finance.yahoo.com/v7/finance/download/' + stock_ticker + '?period1=' + str(start) + '&period2=' + str(end) + '&interval=1d&events=history'\n",
        "df = pd.read_csv(url)\n",
        "df.tail()"
      ]
    },
    {
      "cell_type": "code",
      "execution_count": 3,
      "metadata": {
        "colab": {
          "base_uri": "https://localhost:8080/",
          "height": 282
        },
        "id": "Z5ib1Mvi0Qi3",
        "outputId": "eb117269-2a32-4eaa-95bc-0fc70bc1428c"
      },
      "outputs": [
        {
          "output_type": "execute_result",
          "data": {
            "text/plain": [
              "[<matplotlib.lines.Line2D at 0x7f1a180db710>]"
            ]
          },
          "metadata": {},
          "execution_count": 3
        },
        {
          "output_type": "display_data",
          "data": {
            "text/plain": [
              "<Figure size 432x288 with 1 Axes>"
            ],
            "image/png": "[encoded data removed]"
          },
          "metadata": {
            "needs_background": "light"
          }
        }
      ],
      "source": [
        "plt.plot(df['Adj Close']) # Plotting the Adjusted closing price "
      ]
    },
    {
      "cell_type": "code",
      "execution_count": 4,
      "metadata": {
        "colab": {
          "base_uri": "https://localhost:8080/",
          "height": 206
        },
        "id": "_19Dcht00Qi8",
        "outputId": "5b81b549-63e6-46d3-c08d-8d6d5ca5060a"
      },
      "outputs": [
        {
          "output_type": "execute_result",
          "data": {
            "text/plain": [
              "       Open      High       Low  Adj Close      Volume\n",
              "0  3.081786  3.092143  2.925000   2.562706  1238319600\n",
              "1  3.001786  3.069643  2.993571   2.619587   847260400\n",
              "2  3.063214  3.078571  3.014286   2.600933   834741600\n",
              "3  3.070000  3.090357  3.045714   2.613777   797106800\n",
              "4  3.087500  3.320714  3.041071   2.830903  3349298400"
            ],
            "text/html": [
              "\n",
              "  <div id=\"df-a30f5261-b1ae-40dd-9464-f4b2d23144f2\">\n",
              "    <div class=\"colab-df-container\">\n",
              "      <div>\n",
              "<style scoped>\n",
              "    .dataframe tbody tr th:only-of-type {\n",
              "        vertical-align: middle;\n",
              "    }\n",
              "\n",
              "    .dataframe tbody tr th {\n",
              "        vertical-align: top;\n",
              "    }\n",
              "\n",
              "    .dataframe thead th {\n",
              "        text-align: right;\n",
              "    }\n",
              "</style>\n",
              "<table border=\"1\" class=\"dataframe\">\n",
              "  <thead>\n",
              "    <tr style=\"text-align: right;\">\n",
              "      <th></th>\n",
              "      <th>Open</th>\n",
              "      <th>High</th>\n",
              "      <th>Low</th>\n",
              "      <th>Adj Close</th>\n",
              "      <th>Volume</th>\n",
              "    </tr>\n",
              "  </thead>\n",
              "  <tbody>\n",
              "    <tr>\n",
              "      <th>0</th>\n",
              "      <td>3.081786</td>\n",
              "      <td>3.092143</td>\n",
              "      <td>2.925000</td>\n",
              "      <td>2.562706</td>\n",
              "      <td>1238319600</td>\n",
              "    </tr>\n",
              "    <tr>\n",
              "      <th>1</th>\n",
              "      <td>3.001786</td>\n",
              "      <td>3.069643</td>\n",
              "      <td>2.993571</td>\n",
              "      <td>2.619587</td>\n",
              "      <td>847260400</td>\n",
              "    </tr>\n",
              "    <tr>\n",
              "      <th>2</th>\n",
              "      <td>3.063214</td>\n",
              "      <td>3.078571</td>\n",
              "      <td>3.014286</td>\n",
              "      <td>2.600933</td>\n",
              "      <td>834741600</td>\n",
              "    </tr>\n",
              "    <tr>\n",
              "      <th>3</th>\n",
              "      <td>3.070000</td>\n",
              "      <td>3.090357</td>\n",
              "      <td>3.045714</td>\n",
              "      <td>2.613777</td>\n",
              "      <td>797106800</td>\n",
              "    </tr>\n",
              "    <tr>\n",
              "      <th>4</th>\n",
              "      <td>3.087500</td>\n",
              "      <td>3.320714</td>\n",
              "      <td>3.041071</td>\n",
              "      <td>2.830903</td>\n",
              "      <td>3349298400</td>\n",
              "    </tr>\n",
              "  </tbody>\n",
              "</table>\n",
              "</div>\n",
              "      <button class=\"colab-df-convert\" onclick=\"convertToInteractive('df-a30f5261-b1ae-40dd-9464-f4b2d23144f2')\"\n",
              "              title=\"Convert this dataframe to an interactive table.\"\n",
              "              style=\"display:none;\">\n",
              "        \n",
              "  <svg xmlns=\"http://www.w3.org/2000/svg\" height=\"24px\"viewBox=\"0 0 24 24\"\n",
              "       width=\"24px\">\n",
              "    <path d=\"M0 0h24v24H0V0z\" fill=\"none\"/>\n",
              "    <path d=\"M18.56 5.44l.94 2.06.94-2.06 2.06-.94-2.06-.94-.94-2.06-.94 2.06-2.06.94zm-11 1L8.5 8.5l.94-2.06 2.06-.94-2.06-.94L8.5 2.5l-.94 2.06-2.06.94zm10 10l.94 2.06.94-2.06 2.06-.94-2.06-.94-.94-2.06-.94 2.06-2.06.94z\"/><path d=\"M17.41 7.96l-1.37-1.37c-.4-.4-.92-.59-1.43-.59-.52 0-1.04.2-1.43.59L10.3 9.45l-7.72 7.72c-.78.78-.78 2.05 0 2.83L4 21.41c.39.39.9.59 1.41.59.51 0 1.02-.2 1.41-.59l7.78-7.78 2.81-2.81c.8-.78.8-2.07 0-2.86zM5.41 20L4 18.59l7.72-7.72 1.47 1.35L5.41 20z\"/>\n",
              "  </svg>\n",
              "      </button>\n",
              "      \n",
              "  <style>\n",
              "    .colab-df-container {\n",
              "      display:flex;\n",
              "      flex-wrap:wrap;\n",
              "      gap: 12px;\n",
              "    }\n",
              "\n",
              "    .colab-df-convert {\n",
              "      background-color: #E8F0FE;\n",
              "      border: none;\n",
              "      border-radius: 50%;\n",
              "      cursor: pointer;\n",
              "      display: none;\n",
              "      fill: #1967D2;\n",
              "      height: 32px;\n",
              "      padding: 0 0 0 0;\n",
              "      width: 32px;\n",
              "    }\n",
              "\n",
              "    .colab-df-convert:hover {\n",
              "      background-color: #E2EBFA;\n",
              "      box-shadow: 0px 1px 2px rgba(60, 64, 67, 0.3), 0px 1px 3px 1px rgba(60, 64, 67, 0.15);\n",
              "      fill: #174EA6;\n",
              "    }\n",
              "\n",
              "    [theme=dark] .colab-df-convert {\n",
              "      background-color: #3B4455;\n",
              "      fill: #D2E3FC;\n",
              "    }\n",
              "\n",
              "    [theme=dark] .colab-df-convert:hover {\n",
              "      background-color: #434B5C;\n",
              "      box-shadow: 0px 1px 3px 1px rgba(0, 0, 0, 0.15);\n",
              "      filter: drop-shadow(0px 1px 2px rgba(0, 0, 0, 0.3));\n",
              "      fill: #FFFFFF;\n",
              "    }\n",
              "  </style>\n",
              "\n",
              "      <script>\n",
              "        const buttonEl =\n",
              "          document.querySelector('#df-a30f5261-b1ae-40dd-9464-f4b2d23144f2 button.colab-df-convert');\n",
              "        buttonEl.style.display =\n",
              "          google.colab.kernel.accessAllowed ? 'block' : 'none';\n",
              "\n",
              "        async function convertToInteractive(key) {\n",
              "          const element = document.querySelector('#df-a30f5261-b1ae-40dd-9464-f4b2d23144f2');\n",
              "          const dataTable =\n",
              "            await google.colab.kernel.invokeFunction('convertToInteractive',\n",
              "                                                     [key], {});\n",
              "          if (!dataTable) return;\n",
              "\n",
              "          const docLinkHtml = 'Like what you see? Visit the ' +\n",
              "            '<a target=\"_blank\" href=https://colab.research.google.com/notebooks/data_table.ipynb>data table notebook</a>'\n",
              "            + ' to learn more about interactive tables.';\n",
              "          element.innerHTML = '';\n",
              "          dataTable['output_type'] = 'display_data';\n",
              "          await google.colab.output.renderOutput(dataTable, element);\n",
              "          const docLink = document.createElement('div');\n",
              "          docLink.innerHTML = docLinkHtml;\n",
              "          element.appendChild(docLink);\n",
              "        }\n",
              "      </script>\n",
              "    </div>\n",
              "  </div>\n",
              "  "
            ]
          },
          "metadata": {},
          "execution_count": 4
        }
      ],
      "source": [
        "df = df.drop(['Date', 'Close'], axis = 1)\n",
        "df.head()"
      ]
    },
    {
      "cell_type": "markdown",
      "metadata": {
        "id": "F4xK8ONhJHIC"
      },
      "source": [
        "A moving average (MA) is a widely used technical indicator that smooths out price trends by filtering out the noise from random short-term price fluctuations"
      ]
    },
    {
      "cell_type": "code",
      "execution_count": 5,
      "metadata": {
        "id": "72qryRIHEnGD"
      },
      "outputs": [],
      "source": [
        "ma100 = df['Adj Close'].rolling(100).mean() # 100 days moving average\n",
        "ma200 = df['Adj Close'].rolling(200).mean() # 200 days moving average"
      ]
    },
    {
      "cell_type": "code",
      "execution_count": 6,
      "metadata": {
        "colab": {
          "base_uri": "https://localhost:8080/",
          "height": 391
        },
        "id": "CcfJ8HXAEy6E",
        "outputId": "e07570e2-c79c-44b5-9e6c-1aa6bc950067"
      },
      "outputs": [
        {
          "output_type": "execute_result",
          "data": {
            "text/plain": [
              "[<matplotlib.lines.Line2D at 0x7f1a1675d090>]"
            ]
          },
          "metadata": {},
          "execution_count": 6
        },
        {
          "output_type": "display_data",
          "data": {
            "text/plain": [
              "<Figure size 864x432 with 1 Axes>"
            ],
            "image/png": "[encoded data removed]"
          },
          "metadata": {
            "needs_background": "light"
          }
        }
      ],
      "source": [
        "plt.figure(figsize=(12,6))\n",
        "plt.plot(df['Adj Close'])\n",
        "plt.plot(ma100, 'r')\n",
        "plt.plot(ma200, 'g')"
      ]
    },
    {
      "cell_type": "markdown",
      "metadata": {
        "id": "vCNXX8c_JHII"
      },
      "source": [
        "## Dividing the data into training and testing sets"
      ]
    },
    {
      "cell_type": "code",
      "execution_count": 7,
      "metadata": {
        "colab": {
          "base_uri": "https://localhost:8080/",
          "height": 206
        },
        "id": "3M3ubwsxFJ0J",
        "outputId": "26dfff28-b5af-4210-95c1-20b0a573495b"
      },
      "outputs": [
        {
          "output_type": "execute_result",
          "data": {
            "text/plain": [
              "   Adj Close\n",
              "0   2.562706\n",
              "1   2.619587\n",
              "2   2.600933\n",
              "3   2.613777\n",
              "4   2.830903"
            ],
            "text/html": [
              "\n",
              "  <div id=\"df-c208a61f-8222-4846-b962-934c4d17a7b6\">\n",
              "    <div class=\"colab-df-container\">\n",
              "      <div>\n",
              "<style scoped>\n",
              "    .dataframe tbody tr th:only-of-type {\n",
              "        vertical-align: middle;\n",
              "    }\n",
              "\n",
              "    .dataframe tbody tr th {\n",
              "        vertical-align: top;\n",
              "    }\n",
              "\n",
              "    .dataframe thead th {\n",
              "        text-align: right;\n",
              "    }\n",
              "</style>\n",
              "<table border=\"1\" class=\"dataframe\">\n",
              "  <thead>\n",
              "    <tr style=\"text-align: right;\">\n",
              "      <th></th>\n",
              "      <th>Adj Close</th>\n",
              "    </tr>\n",
              "  </thead>\n",
              "  <tbody>\n",
              "    <tr>\n",
              "      <th>0</th>\n",
              "      <td>2.562706</td>\n",
              "    </tr>\n",
              "    <tr>\n",
              "      <th>1</th>\n",
              "      <td>2.619587</td>\n",
              "    </tr>\n",
              "    <tr>\n",
              "      <th>2</th>\n",
              "      <td>2.600933</td>\n",
              "    </tr>\n",
              "    <tr>\n",
              "      <th>3</th>\n",
              "      <td>2.613777</td>\n",
              "    </tr>\n",
              "    <tr>\n",
              "      <th>4</th>\n",
              "      <td>2.830903</td>\n",
              "    </tr>\n",
              "  </tbody>\n",
              "</table>\n",
              "</div>\n",
              "      <button class=\"colab-df-convert\" onclick=\"convertToInteractive('df-c208a61f-8222-4846-b962-934c4d17a7b6')\"\n",
              "              title=\"Convert this dataframe to an interactive table.\"\n",
              "              style=\"display:none;\">\n",
              "        \n",
              "  <svg xmlns=\"http://www.w3.org/2000/svg\" height=\"24px\"viewBox=\"0 0 24 24\"\n",
              "       width=\"24px\">\n",
              "    <path d=\"M0 0h24v24H0V0z\" fill=\"none\"/>\n",
              "    <path d=\"M18.56 5.44l.94 2.06.94-2.06 2.06-.94-2.06-.94-.94-2.06-.94 2.06-2.06.94zm-11 1L8.5 8.5l.94-2.06 2.06-.94-2.06-.94L8.5 2.5l-.94 2.06-2.06.94zm10 10l.94 2.06.94-2.06 2.06-.94-2.06-.94-.94-2.06-.94 2.06-2.06.94z\"/><path d=\"M17.41 7.96l-1.37-1.37c-.4-.4-.92-.59-1.43-.59-.52 0-1.04.2-1.43.59L10.3 9.45l-7.72 7.72c-.78.78-.78 2.05 0 2.83L4 21.41c.39.39.9.59 1.41.59.51 0 1.02-.2 1.41-.59l7.78-7.78 2.81-2.81c.8-.78.8-2.07 0-2.86zM5.41 20L4 18.59l7.72-7.72 1.47 1.35L5.41 20z\"/>\n",
              "  </svg>\n",
              "      </button>\n",
              "      \n",
              "  <style>\n",
              "    .colab-df-container {\n",
              "      display:flex;\n",
              "      flex-wrap:wrap;\n",
              "      gap: 12px;\n",
              "    }\n",
              "\n",
              "    .colab-df-convert {\n",
              "      background-color: #E8F0FE;\n",
              "      border: none;\n",
              "      border-radius: 50%;\n",
              "      cursor: pointer;\n",
              "      display: none;\n",
              "      fill: #1967D2;\n",
              "      height: 32px;\n",
              "      padding: 0 0 0 0;\n",
              "      width: 32px;\n",
              "    }\n",
              "\n",
              "    .colab-df-convert:hover {\n",
              "      background-color: #E2EBFA;\n",
              "      box-shadow: 0px 1px 2px rgba(60, 64, 67, 0.3), 0px 1px 3px 1px rgba(60, 64, 67, 0.15);\n",
              "      fill: #174EA6;\n",
              "    }\n",
              "\n",
              "    [theme=dark] .colab-df-convert {\n",
              "      background-color: #3B4455;\n",
              "      fill: #D2E3FC;\n",
              "    }\n",
              "\n",
              "    [theme=dark] .colab-df-convert:hover {\n",
              "      background-color: #434B5C;\n",
              "      box-shadow: 0px 1px 3px 1px rgba(0, 0, 0, 0.15);\n",
              "      filter: drop-shadow(0px 1px 2px rgba(0, 0, 0, 0.3));\n",
              "      fill: #FFFFFF;\n",
              "    }\n",
              "  </style>\n",
              "\n",
              "      <script>\n",
              "        const buttonEl =\n",
              "          document.querySelector('#df-c208a61f-8222-4846-b962-934c4d17a7b6 button.colab-df-convert');\n",
              "        buttonEl.style.display =\n",
              "          google.colab.kernel.accessAllowed ? 'block' : 'none';\n",
              "\n",
              "        async function convertToInteractive(key) {\n",
              "          const element = document.querySelector('#df-c208a61f-8222-4846-b962-934c4d17a7b6');\n",
              "          const dataTable =\n",
              "            await google.colab.kernel.invokeFunction('convertToInteractive',\n",
              "                                                     [key], {});\n",
              "          if (!dataTable) return;\n",
              "\n",
              "          const docLinkHtml = 'Like what you see? Visit the ' +\n",
              "            '<a target=\"_blank\" href=https://colab.research.google.com/notebooks/data_table.ipynb>data table notebook</a>'\n",
              "            + ' to learn more about interactive tables.';\n",
              "          element.innerHTML = '';\n",
              "          dataTable['output_type'] = 'display_data';\n",
              "          await google.colab.output.renderOutput(dataTable, element);\n",
              "          const docLink = document.createElement('div');\n",
              "          docLink.innerHTML = docLinkHtml;\n",
              "          element.appendChild(docLink);\n",
              "        }\n",
              "      </script>\n",
              "    </div>\n",
              "  </div>\n",
              "  "
            ]
          },
          "metadata": {},
          "execution_count": 7
        }
      ],
      "source": [
        "data_training = pd.DataFrame(df['Adj Close'][:int(len(df)*0.70)])\n",
        "data_testing = pd.DataFrame(df['Adj Close'][int(len(df)*0.70):int(len(df))])\n",
        "data_training.head()"
      ]
    },
    {
      "cell_type": "code",
      "execution_count": 8,
      "metadata": {
        "colab": {
          "base_uri": "https://localhost:8080/"
        },
        "id": "Io5he-BzGR5W",
        "outputId": "30076089-e156-4cb7-8190-ab6687c6d69e"
      },
      "outputs": [
        {
          "output_type": "execute_result",
          "data": {
            "text/plain": [
              "(2695, 1)"
            ]
          },
          "metadata": {},
          "execution_count": 8
        }
      ],
      "source": [
        "data_training1 = np.array(data_training)\n",
        "data_training1.shape"
      ]
    },
    {
      "cell_type": "markdown",
      "metadata": {
        "id": "sYLhiFQjJHIM"
      },
      "source": [
        "We will use the Adjusted closing price of the stock of 100 days to predict the Adlusted closing price for the 101st day. Thus, the 100 prices will form the features for the 101st day."
      ]
    },
    {
      "cell_type": "code",
      "source": [
        "from sklearn.preprocessing import MinMaxScaler\n",
        "sca = MinMaxScaler(feature_range=(0,1))\n",
        "data_training1 = sca.fit_transform(data_training1)"
      ],
      "metadata": {
        "id": "aAk9qXP5JnWO"
      },
      "execution_count": 9,
      "outputs": []
    },
    {
      "cell_type": "code",
      "execution_count": 10,
      "metadata": {
        "id": "Y5dfew1_GuHk"
      },
      "outputs": [],
      "source": [
        "x_train = []\n",
        "y_train = []\n",
        "for i in range(100, data_training1.shape[0]):\n",
        "  x_train.append(data_training1[i-100:i])\n",
        "  y_train.append(data_training1[i, 0])\n",
        "\n",
        "x_train, y_train = np.array(x_train), np.array(y_train)\n",
        "x_train = np.reshape(x_train, (x_train.shape[0], x_train.shape[1]))"
      ]
    },
    {
      "cell_type": "code",
      "execution_count": 11,
      "metadata": {
        "colab": {
          "base_uri": "https://localhost:8080/"
        },
        "id": "eeqviPk6IkhO",
        "outputId": "880dd027-0928-4296-b3bc-dcd1e7285983"
      },
      "outputs": [
        {
          "output_type": "execute_result",
          "data": {
            "text/plain": [
              "(2595, 100)"
            ]
          },
          "metadata": {},
          "execution_count": 11
        }
      ],
      "source": [
        "x_train.shape"
      ]
    },
    {
      "cell_type": "code",
      "execution_count": 12,
      "metadata": {
        "colab": {
          "base_uri": "https://localhost:8080/"
        },
        "id": "333UlIp3JNE2",
        "outputId": "e3b31be1-ae57-4eee-a66c-40979c79dbd6"
      },
      "outputs": [
        {
          "output_type": "execute_result",
          "data": {
            "text/plain": [
              "array([[0.00266677],\n",
              "       [0.00131169],\n",
              "       [0.00148704],\n",
              "       ...,\n",
              "       [0.88863579],\n",
              "       [0.88714999],\n",
              "       [0.90288693]])"
            ]
          },
          "metadata": {},
          "execution_count": 12
        }
      ],
      "source": [
        "past100 = data_training.tail(100)\n",
        "data_testing = past100.append(data_testing, ignore_index = True)\n",
        "input_data = np.array(data_testing)\n",
        "\n",
        "input_data = sca.fit_transform(input_data)\n",
        "input_data"
      ]
    },
    {
      "cell_type": "code",
      "source": [
        "x_test = []\n",
        "y_test = []\n",
        "for i in range(100, input_data.shape[0]):\n",
        "  x_test.append(input_data[i-100:i])\n",
        "  y_test.append(input_data[i, 0])\n",
        "\n",
        "x_test, y_test = np.array(x_test), np.array(y_test)\n",
        "x_test = np.reshape(x_test, (x_test.shape[0], x_test.shape[1]))"
      ],
      "metadata": {
        "id": "FP9NFaE1ghUk"
      },
      "execution_count": 13,
      "outputs": []
    },
    {
      "cell_type": "markdown",
      "source": [
        "We will be using a Ensemble Learning model which uses Voting Regressor made up of Linear Regressor, Random Forest Classifier and Support Vector Regressor."
      ],
      "metadata": {
        "id": "2qzcr1z3nASv"
      }
    },
    {
      "cell_type": "code",
      "source": [
        "from sklearn.linear_model import LinearRegression\n",
        "from sklearn.ensemble import RandomForestRegressor\n",
        "from sklearn.svm import SVR\n",
        "from sklearn.ensemble import VotingRegressor\n",
        "from sklearn.model_selection import cross_val_score\n",
        "r1 = LinearRegression()\n",
        "r2 = RandomForestRegressor(n_estimators=15, random_state=1)\n",
        "r3 = SVR()\n",
        "er = VotingRegressor([('lr', r1), ('rf', r2), ('svr', r3)])"
      ],
      "metadata": {
        "id": "PuwQyX27d0er"
      },
      "execution_count": 14,
      "outputs": []
    },
    {
      "cell_type": "markdown",
      "source": [
        "Using Grid Search CV we will find the best hyperparameters for the regressors."
      ],
      "metadata": {
        "id": "j4kBaEIo0sRZ"
      }
    },
    {
      "cell_type": "code",
      "source": [
        "from sklearn.model_selection import GridSearchCV\n",
        "param_grid = [\n",
        "  {'rf__n_estimators': [5, 10, 15, 20], 'svr__C': [0.01, 0.1, 1]},\n",
        "  {'rf__bootstrap': [False], 'rf__n_estimators': [5, 10, 15, 20], 'svr__C': [0.01, 0.1, 1]}\n",
        "]\n",
        "grid_search = GridSearchCV(er, param_grid, cv = 5, scoring = 'neg_mean_squared_error', return_train_score = True, verbose = 2)\n",
        "grid_search.fit(x_train, y_train)"
      ],
      "metadata": {
        "colab": {
          "base_uri": "https://localhost:8080/"
        },
        "id": "aavjNuihr4ye",
        "outputId": "a3390e85-a631-444b-8b5d-cfb6535b5324"
      },
      "execution_count": 15,
      "outputs": [
        {
          "output_type": "stream",
          "name": "stdout",
          "text": [
            "Fitting 5 folds for each of 24 candidates, totalling 120 fits\n",
            "[CV] END ....................rf__n_estimators=5, svr__C=0.01; total time=   0.6s\n",
            "[CV] END ....................rf__n_estimators=5, svr__C=0.01; total time=   0.6s\n",
            "[CV] END ....................rf__n_estimators=5, svr__C=0.01; total time=   0.6s\n",
            "[CV] END ....................rf__n_estimators=5, svr__C=0.01; total time=   0.6s\n",
            "[CV] END ....................rf__n_estimators=5, svr__C=0.01; total time=   0.6s\n",
            "[CV] END .....................rf__n_estimators=5, svr__C=0.1; total time=   0.6s\n",
            "[CV] END .....................rf__n_estimators=5, svr__C=0.1; total time=   0.6s\n",
            "[CV] END .....................rf__n_estimators=5, svr__C=0.1; total time=   0.6s\n",
            "[CV] END .....................rf__n_estimators=5, svr__C=0.1; total time=   0.6s\n",
            "[CV] END .....................rf__n_estimators=5, svr__C=0.1; total time=   0.6s\n",
            "[CV] END .......................rf__n_estimators=5, svr__C=1; total time=   0.6s\n",
            "[CV] END .......................rf__n_estimators=5, svr__C=1; total time=   0.6s\n",
            "[CV] END .......................rf__n_estimators=5, svr__C=1; total time=   0.6s\n",
            "[CV] END .......................rf__n_estimators=5, svr__C=1; total time=   0.6s\n",
            "[CV] END .......................rf__n_estimators=5, svr__C=1; total time=   0.6s\n",
            "[CV] END ...................rf__n_estimators=10, svr__C=0.01; total time=   1.1s\n",
            "[CV] END ...................rf__n_estimators=10, svr__C=0.01; total time=   1.1s\n",
            "[CV] END ...................rf__n_estimators=10, svr__C=0.01; total time=   1.1s\n",
            "[CV] END ...................rf__n_estimators=10, svr__C=0.01; total time=   1.1s\n",
            "[CV] END ...................rf__n_estimators=10, svr__C=0.01; total time=   1.1s\n",
            "[CV] END ....................rf__n_estimators=10, svr__C=0.1; total time=   1.1s\n",
            "[CV] END ....................rf__n_estimators=10, svr__C=0.1; total time=   1.1s\n",
            "[CV] END ....................rf__n_estimators=10, svr__C=0.1; total time=   1.1s\n",
            "[CV] END ....................rf__n_estimators=10, svr__C=0.1; total time=   1.1s\n",
            "[CV] END ....................rf__n_estimators=10, svr__C=0.1; total time=   1.1s\n",
            "[CV] END ......................rf__n_estimators=10, svr__C=1; total time=   1.1s\n",
            "[CV] END ......................rf__n_estimators=10, svr__C=1; total time=   1.1s\n",
            "[CV] END ......................rf__n_estimators=10, svr__C=1; total time=   1.1s\n",
            "[CV] END ......................rf__n_estimators=10, svr__C=1; total time=   1.1s\n",
            "[CV] END ......................rf__n_estimators=10, svr__C=1; total time=   1.1s\n",
            "[CV] END ...................rf__n_estimators=15, svr__C=0.01; total time=   1.6s\n",
            "[CV] END ...................rf__n_estimators=15, svr__C=0.01; total time=   1.6s\n",
            "[CV] END ...................rf__n_estimators=15, svr__C=0.01; total time=   1.6s\n",
            "[CV] END ...................rf__n_estimators=15, svr__C=0.01; total time=   1.6s\n",
            "[CV] END ...................rf__n_estimators=15, svr__C=0.01; total time=   1.6s\n",
            "[CV] END ....................rf__n_estimators=15, svr__C=0.1; total time=   1.6s\n",
            "[CV] END ....................rf__n_estimators=15, svr__C=0.1; total time=   1.6s\n",
            "[CV] END ....................rf__n_estimators=15, svr__C=0.1; total time=   1.6s\n",
            "[CV] END ....................rf__n_estimators=15, svr__C=0.1; total time=   1.6s\n",
            "[CV] END ....................rf__n_estimators=15, svr__C=0.1; total time=   1.6s\n",
            "[CV] END ......................rf__n_estimators=15, svr__C=1; total time=   1.6s\n",
            "[CV] END ......................rf__n_estimators=15, svr__C=1; total time=   1.6s\n",
            "[CV] END ......................rf__n_estimators=15, svr__C=1; total time=   1.6s\n",
            "[CV] END ......................rf__n_estimators=15, svr__C=1; total time=   1.6s\n",
            "[CV] END ......................rf__n_estimators=15, svr__C=1; total time=   1.6s\n",
            "[CV] END ...................rf__n_estimators=20, svr__C=0.01; total time=   2.1s\n",
            "[CV] END ...................rf__n_estimators=20, svr__C=0.01; total time=   2.1s\n",
            "[CV] END ...................rf__n_estimators=20, svr__C=0.01; total time=   2.2s\n",
            "[CV] END ...................rf__n_estimators=20, svr__C=0.01; total time=   2.1s\n",
            "[CV] END ...................rf__n_estimators=20, svr__C=0.01; total time=   2.1s\n",
            "[CV] END ....................rf__n_estimators=20, svr__C=0.1; total time=   2.1s\n",
            "[CV] END ....................rf__n_estimators=20, svr__C=0.1; total time=   2.1s\n",
            "[CV] END ....................rf__n_estimators=20, svr__C=0.1; total time=   2.1s\n",
            "[CV] END ....................rf__n_estimators=20, svr__C=0.1; total time=   2.1s\n",
            "[CV] END ....................rf__n_estimators=20, svr__C=0.1; total time=   2.1s\n",
            "[CV] END ......................rf__n_estimators=20, svr__C=1; total time=   2.1s\n",
            "[CV] END ......................rf__n_estimators=20, svr__C=1; total time=   2.1s\n",
            "[CV] END ......................rf__n_estimators=20, svr__C=1; total time=   2.1s\n",
            "[CV] END ......................rf__n_estimators=20, svr__C=1; total time=   2.1s\n",
            "[CV] END ......................rf__n_estimators=20, svr__C=1; total time=   2.1s\n",
            "[CV] END rf__bootstrap=False, rf__n_estimators=5, svr__C=0.01; total time=   1.0s\n",
            "[CV] END rf__bootstrap=False, rf__n_estimators=5, svr__C=0.01; total time=   1.0s\n",
            "[CV] END rf__bootstrap=False, rf__n_estimators=5, svr__C=0.01; total time=   1.0s\n",
            "[CV] END rf__bootstrap=False, rf__n_estimators=5, svr__C=0.01; total time=   1.0s\n",
            "[CV] END rf__bootstrap=False, rf__n_estimators=5, svr__C=0.01; total time=   1.0s\n",
            "[CV] END rf__bootstrap=False, rf__n_estimators=5, svr__C=0.1; total time=   1.0s\n",
            "[CV] END rf__bootstrap=False, rf__n_estimators=5, svr__C=0.1; total time=   1.0s\n",
            "[CV] END rf__bootstrap=False, rf__n_estimators=5, svr__C=0.1; total time=   1.0s\n",
            "[CV] END rf__bootstrap=False, rf__n_estimators=5, svr__C=0.1; total time=   1.0s\n",
            "[CV] END rf__bootstrap=False, rf__n_estimators=5, svr__C=0.1; total time=   1.0s\n",
            "[CV] END ..rf__bootstrap=False, rf__n_estimators=5, svr__C=1; total time=   1.0s\n",
            "[CV] END ..rf__bootstrap=False, rf__n_estimators=5, svr__C=1; total time=   1.0s\n",
            "[CV] END ..rf__bootstrap=False, rf__n_estimators=5, svr__C=1; total time=   1.0s\n",
            "[CV] END ..rf__bootstrap=False, rf__n_estimators=5, svr__C=1; total time=   1.0s\n",
            "[CV] END ..rf__bootstrap=False, rf__n_estimators=5, svr__C=1; total time=   1.0s\n",
            "[CV] END rf__bootstrap=False, rf__n_estimators=10, svr__C=0.01; total time=   1.9s\n",
            "[CV] END rf__bootstrap=False, rf__n_estimators=10, svr__C=0.01; total time=   1.9s\n",
            "[CV] END rf__bootstrap=False, rf__n_estimators=10, svr__C=0.01; total time=   1.9s\n",
            "[CV] END rf__bootstrap=False, rf__n_estimators=10, svr__C=0.01; total time=   1.9s\n",
            "[CV] END rf__bootstrap=False, rf__n_estimators=10, svr__C=0.01; total time=   1.9s\n",
            "[CV] END rf__bootstrap=False, rf__n_estimators=10, svr__C=0.1; total time=   1.8s\n",
            "[CV] END rf__bootstrap=False, rf__n_estimators=10, svr__C=0.1; total time=   1.9s\n",
            "[CV] END rf__bootstrap=False, rf__n_estimators=10, svr__C=0.1; total time=   1.9s\n",
            "[CV] END rf__bootstrap=False, rf__n_estimators=10, svr__C=0.1; total time=   1.9s\n",
            "[CV] END rf__bootstrap=False, rf__n_estimators=10, svr__C=0.1; total time=   1.9s\n",
            "[CV] END .rf__bootstrap=False, rf__n_estimators=10, svr__C=1; total time=   1.8s\n",
            "[CV] END .rf__bootstrap=False, rf__n_estimators=10, svr__C=1; total time=   1.9s\n",
            "[CV] END .rf__bootstrap=False, rf__n_estimators=10, svr__C=1; total time=   1.9s\n",
            "[CV] END .rf__bootstrap=False, rf__n_estimators=10, svr__C=1; total time=   1.9s\n",
            "[CV] END .rf__bootstrap=False, rf__n_estimators=10, svr__C=1; total time=   1.8s\n",
            "[CV] END rf__bootstrap=False, rf__n_estimators=15, svr__C=0.01; total time=   2.7s\n",
            "[CV] END rf__bootstrap=False, rf__n_estimators=15, svr__C=0.01; total time=   2.8s\n",
            "[CV] END rf__bootstrap=False, rf__n_estimators=15, svr__C=0.01; total time=   2.8s\n",
            "[CV] END rf__bootstrap=False, rf__n_estimators=15, svr__C=0.01; total time=   2.8s\n",
            "[CV] END rf__bootstrap=False, rf__n_estimators=15, svr__C=0.01; total time=   2.8s\n",
            "[CV] END rf__bootstrap=False, rf__n_estimators=15, svr__C=0.1; total time=   2.7s\n",
            "[CV] END rf__bootstrap=False, rf__n_estimators=15, svr__C=0.1; total time=   2.8s\n",
            "[CV] END rf__bootstrap=False, rf__n_estimators=15, svr__C=0.1; total time=   2.8s\n",
            "[CV] END rf__bootstrap=False, rf__n_estimators=15, svr__C=0.1; total time=   2.8s\n",
            "[CV] END rf__bootstrap=False, rf__n_estimators=15, svr__C=0.1; total time=   2.7s\n",
            "[CV] END .rf__bootstrap=False, rf__n_estimators=15, svr__C=1; total time=   2.8s\n",
            "[CV] END .rf__bootstrap=False, rf__n_estimators=15, svr__C=1; total time=   2.7s\n",
            "[CV] END .rf__bootstrap=False, rf__n_estimators=15, svr__C=1; total time=   2.8s\n",
            "[CV] END .rf__bootstrap=False, rf__n_estimators=15, svr__C=1; total time=   2.8s\n",
            "[CV] END .rf__bootstrap=False, rf__n_estimators=15, svr__C=1; total time=   2.8s\n",
            "[CV] END rf__bootstrap=False, rf__n_estimators=20, svr__C=0.01; total time=   3.6s\n",
            "[CV] END rf__bootstrap=False, rf__n_estimators=20, svr__C=0.01; total time=   3.6s\n",
            "[CV] END rf__bootstrap=False, rf__n_estimators=20, svr__C=0.01; total time=   3.7s\n",
            "[CV] END rf__bootstrap=False, rf__n_estimators=20, svr__C=0.01; total time=   3.7s\n",
            "[CV] END rf__bootstrap=False, rf__n_estimators=20, svr__C=0.01; total time=   3.6s\n",
            "[CV] END rf__bootstrap=False, rf__n_estimators=20, svr__C=0.1; total time=   3.6s\n",
            "[CV] END rf__bootstrap=False, rf__n_estimators=20, svr__C=0.1; total time=   3.6s\n",
            "[CV] END rf__bootstrap=False, rf__n_estimators=20, svr__C=0.1; total time=   3.7s\n",
            "[CV] END rf__bootstrap=False, rf__n_estimators=20, svr__C=0.1; total time=   3.7s\n",
            "[CV] END rf__bootstrap=False, rf__n_estimators=20, svr__C=0.1; total time=   3.6s\n",
            "[CV] END .rf__bootstrap=False, rf__n_estimators=20, svr__C=1; total time=   3.6s\n",
            "[CV] END .rf__bootstrap=False, rf__n_estimators=20, svr__C=1; total time=   3.7s\n",
            "[CV] END .rf__bootstrap=False, rf__n_estimators=20, svr__C=1; total time=   3.7s\n",
            "[CV] END .rf__bootstrap=False, rf__n_estimators=20, svr__C=1; total time=   3.7s\n",
            "[CV] END .rf__bootstrap=False, rf__n_estimators=20, svr__C=1; total time=   3.6s\n"
          ]
        },
        {
          "output_type": "execute_result",
          "data": {
            "text/plain": [
              "GridSearchCV(cv=5,\n",
              "             estimator=VotingRegressor(estimators=[('lr', LinearRegression()),\n",
              "                                                   ('rf',\n",
              "                                                    RandomForestRegressor(n_estimators=15,\n",
              "                                                                          random_state=1)),\n",
              "                                                   ('svr', SVR())]),\n",
              "             param_grid=[{'rf__n_estimators': [5, 10, 15, 20],\n",
              "                          'svr__C': [0.01, 0.1, 1]},\n",
              "                         {'rf__bootstrap': [False],\n",
              "                          'rf__n_estimators': [5, 10, 15, 20],\n",
              "                          'svr__C': [0.01, 0.1, 1]}],\n",
              "             return_train_score=True, scoring='neg_mean_squared_error',\n",
              "             verbose=2)"
            ]
          },
          "metadata": {},
          "execution_count": 15
        }
      ]
    },
    {
      "cell_type": "code",
      "source": [
        "grid_search.best_params_"
      ],
      "metadata": {
        "colab": {
          "base_uri": "https://localhost:8080/"
        },
        "id": "TEacwbLst027",
        "outputId": "f48e061a-9731-4a14-837d-374edb58c94f"
      },
      "execution_count": 16,
      "outputs": [
        {
          "output_type": "execute_result",
          "data": {
            "text/plain": [
              "{'rf__n_estimators': 20, 'svr__C': 1}"
            ]
          },
          "metadata": {},
          "execution_count": 16
        }
      ]
    },
    {
      "cell_type": "markdown",
      "source": [
        "Using the best estimator to train the data and plot the predictions of the testing data."
      ],
      "metadata": {
        "id": "TyrNw27v3nt1"
      }
    },
    {
      "cell_type": "code",
      "source": [
        "er = grid_search.best_estimator_"
      ],
      "metadata": {
        "id": "oz1JTGzBonOG"
      },
      "execution_count": 17,
      "outputs": []
    },
    {
      "cell_type": "code",
      "source": [
        "er.fit(x_train, y_train)\n",
        "y_pred = er.predict(x_test)\n",
        "plt.figure(figsize=(12,6))\n",
        "y_test = y_test.reshape(-1, 1)\n",
        "y_pred = y_pred.reshape(-1, 1)\n",
        "plt.plot(sca.inverse_transform(y_test), 'b', label='Closing Price')\n",
        "plt.plot(sca.inverse_transform(y_pred), 'r', label='Predicted Closing Price')\n",
        "plt.legend()\n",
        "plt.show()"
      ],
      "metadata": {
        "colab": {
          "base_uri": "https://localhost:8080/",
          "height": 374
        },
        "id": "Elaqr0jhfVLI",
        "outputId": "bf6c8690-bb7b-4057-dafd-f4fad79ef3f3"
      },
      "execution_count": 18,
      "outputs": [
        {
          "output_type": "display_data",
          "data": {
            "text/plain": [
              "<Figure size 864x432 with 1 Axes>"
            ],
            "image/png": "[encoded data removed]"
          },
          "metadata": {
            "needs_background": "light"
          }
        }
      ]
    },
    {
      "cell_type": "markdown",
      "source": [
        "Predicting the most recent stock value"
      ],
      "metadata": {
        "id": "SkX8D7lg37xC"
      }
    },
    {
      "cell_type": "code",
      "source": [
        "x1 = data_testing.tail(100)\n",
        "x1 = sca.fit_transform(x1)\n",
        "x1 = x1.reshape(1, 100)\n",
        "y_pred1 = er.predict(x1)"
      ],
      "metadata": {
        "id": "gZZwu8KLvvL8"
      },
      "execution_count": 19,
      "outputs": []
    },
    {
      "cell_type": "code",
      "source": [
        "d = np.array([y_pred1])\n",
        "a = sca.inverse_transform(d)\n",
        "a[0, 0]"
      ],
      "metadata": {
        "colab": {
          "base_uri": "https://localhost:8080/"
        },
        "id": "ekew6--2wwDY",
        "outputId": "9dc3cde2-8ec7-4251-ba6b-c2e3d47070c8"
      },
      "execution_count": 20,
      "outputs": [
        {
          "output_type": "execute_result",
          "data": {
            "text/plain": [
              "167.3265908475907"
            ]
          },
          "metadata": {},
          "execution_count": 20
        }
      ]
    },
    {
      "cell_type": "markdown",
      "source": [
        "Saving the trained model."
      ],
      "metadata": {
        "id": "0mfHP2Dm4CFo"
      }
    },
    {
      "cell_type": "code",
      "source": [
        "import joblib\n",
        "joblib.dump(er, 'ensemble_model.pkl')"
      ],
      "metadata": {
        "colab": {
          "base_uri": "https://localhost:8080/"
        },
        "id": "hgYzeeD-0sSI",
        "outputId": "8406a1b3-c1c2-4718-9608-8362ec617dda"
      },
      "execution_count": 21,
      "outputs": [
        {
          "output_type": "execute_result",
          "data": {
            "text/plain": [
              "['ensemble_model.pkl']"
            ]
          },
          "metadata": {},
          "execution_count": 21
        }
      ]
    },
    {
      "cell_type": "code",
      "source": [
        ""
      ],
      "metadata": {
        "id": "MHjUFqVwZ452"
      },
      "execution_count": 21,
      "outputs": []
    }
  ],
  "metadata": {
    "colab": {
      "name": "Stock_prediction.ipynb",
      "provenance": [],
      "collapsed_sections": []
    },
    "kernelspec": {
      "display_name": "Python 3",
      "language": "python",
      "name": "python3"
    },
    "language_info": {
      "codemirror_mode": {
        "name": "ipython",
        "version": 3
      },
      "file_extension": ".py",
      "mimetype": "text/x-python",
      "name": "python",
      "nbconvert_exporter": "python",
      "pygments_lexer": "ipython3",
      "version": "3.7.6"
    }
  },
  "nbformat": 4,
  "nbformat_minor": 0
}