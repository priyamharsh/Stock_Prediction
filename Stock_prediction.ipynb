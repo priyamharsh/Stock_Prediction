{
  "cells": [
    {
      "cell_type": "markdown",
      "metadata": {
        "id": "ttkcCbqpaSzg"
      },
      "source": [
        "## Importing the necessary libraries"
      ]
    },
    {
      "cell_type": "code",
      "execution_count": 1,
      "metadata": {
        "id": "iQNHRVIf0Qid"
      },
      "outputs": [],
      "source": [
        "import numpy as np\n",
        "import pandas as pd\n",
        "import matplotlib.pyplot as plt"
      ]
    },
    {
      "cell_type": "markdown",
      "metadata": {
        "id": "VuWn8g1yJHH5"
      },
      "source": [
        "## Getting the data"
      ]
    },
    {
      "cell_type": "markdown",
      "metadata": {
        "id": "lHrZgE31JHH7"
      },
      "source": [
        "We scrape the data from Yahoo finance by passing the stock ticker and the start and end time."
      ]
    },
    {
      "cell_type": "code",
      "execution_count": 2,
      "metadata": {
        "colab": {
          "base_uri": "https://localhost:8080/",
          "height": 296
        },
        "id": "YZwaVlnp0Qix",
        "outputId": "26bc6dbc-7fce-433c-8af3-e93c1709dd08"
      },
      "outputs": [
        {
          "output_type": "stream",
          "name": "stderr",
          "text": [
            "/usr/local/lib/python3.7/dist-packages/ipykernel_launcher.py:2: FutureWarning: casting datetime64[ns] values to int64 with .astype(...) is deprecated and will raise in a future version. Use .view(...) instead.\n",
            "  \n",
            "/usr/local/lib/python3.7/dist-packages/ipykernel_launcher.py:3: FutureWarning: casting datetime64[ns] values to int64 with .astype(...) is deprecated and will raise in a future version. Use .view(...) instead.\n",
            "  This is separate from the ipykernel package so we can avoid doing imports until\n"
          ]
        },
        {
          "output_type": "execute_result",
          "data": {
            "text/plain": [
              "            Date        Open        High         Low       Close   Adj Close  \\\n",
              "3858  2022-04-29  161.839996  166.199997  157.250000  157.649994  157.649994   \n",
              "3859  2022-05-02  156.710007  158.229996  153.270004  157.960007  157.960007   \n",
              "3860  2022-05-03  158.149994  160.710007  156.320007  159.479996  159.479996   \n",
              "3861  2022-05-04  159.669998  166.479996  159.259995  166.020004  166.020004   \n",
              "3862  2022-05-05  163.850006  164.070007  154.949997  156.770004  156.770004   \n",
              "\n",
              "         Volume  \n",
              "3858  131587100  \n",
              "3859  123055300  \n",
              "3860   88966500  \n",
              "3861  108256500  \n",
              "3862  130525275  "
            ],
            "text/html": [
              "\n",
              "  <div id=\"df-4d69b24a-9816-4b94-8d14-94c6f7ec410f\">\n",
              "    <div class=\"colab-df-container\">\n",
              "      <div>\n",
              "<style scoped>\n",
              "    .dataframe tbody tr th:only-of-type {\n",
              "        vertical-align: middle;\n",
              "    }\n",
              "\n",
              "    .dataframe tbody tr th {\n",
              "        vertical-align: top;\n",
              "    }\n",
              "\n",
              "    .dataframe thead th {\n",
              "        text-align: right;\n",
              "    }\n",
              "</style>\n",
              "<table border=\"1\" class=\"dataframe\">\n",
              "  <thead>\n",
              "    <tr style=\"text-align: right;\">\n",
              "      <th></th>\n",
              "      <th>Date</th>\n",
              "      <th>Open</th>\n",
              "      <th>High</th>\n",
              "      <th>Low</th>\n",
              "      <th>Close</th>\n",
              "      <th>Adj Close</th>\n",
              "      <th>Volume</th>\n",
              "    </tr>\n",
              "  </thead>\n",
              "  <tbody>\n",
              "    <tr>\n",
              "      <th>3858</th>\n",
              "      <td>2022-04-29</td>\n",
              "      <td>161.839996</td>\n",
              "      <td>166.199997</td>\n",
              "      <td>157.250000</td>\n",
              "      <td>157.649994</td>\n",
              "      <td>157.649994</td>\n",
              "      <td>131587100</td>\n",
              "    </tr>\n",
              "    <tr>\n",
              "      <th>3859</th>\n",
              "      <td>2022-05-02</td>\n",
              "      <td>156.710007</td>\n",
              "      <td>158.229996</td>\n",
              "      <td>153.270004</td>\n",
              "      <td>157.960007</td>\n",
              "      <td>157.960007</td>\n",
              "      <td>123055300</td>\n",
              "    </tr>\n",
              "    <tr>\n",
              "      <th>3860</th>\n",
              "      <td>2022-05-03</td>\n",
              "      <td>158.149994</td>\n",
              "      <td>160.710007</td>\n",
              "      <td>156.320007</td>\n",
              "      <td>159.479996</td>\n",
              "      <td>159.479996</td>\n",
              "      <td>88966500</td>\n",
              "    </tr>\n",
              "    <tr>\n",
              "      <th>3861</th>\n",
              "      <td>2022-05-04</td>\n",
              "      <td>159.669998</td>\n",
              "      <td>166.479996</td>\n",
              "      <td>159.259995</td>\n",
              "      <td>166.020004</td>\n",
              "      <td>166.020004</td>\n",
              "      <td>108256500</td>\n",
              "    </tr>\n",
              "    <tr>\n",
              "      <th>3862</th>\n",
              "      <td>2022-05-05</td>\n",
              "      <td>163.850006</td>\n",
              "      <td>164.070007</td>\n",
              "      <td>154.949997</td>\n",
              "      <td>156.770004</td>\n",
              "      <td>156.770004</td>\n",
              "      <td>130525275</td>\n",
              "    </tr>\n",
              "  </tbody>\n",
              "</table>\n",
              "</div>\n",
              "      <button class=\"colab-df-convert\" onclick=\"convertToInteractive('df-4d69b24a-9816-4b94-8d14-94c6f7ec410f')\"\n",
              "              title=\"Convert this dataframe to an interactive table.\"\n",
              "              style=\"display:none;\">\n",
              "        \n",
              "  <svg xmlns=\"http://www.w3.org/2000/svg\" height=\"24px\"viewBox=\"0 0 24 24\"\n",
              "       width=\"24px\">\n",
              "    <path d=\"M0 0h24v24H0V0z\" fill=\"none\"/>\n",
              "    <path d=\"M18.56 5.44l.94 2.06.94-2.06 2.06-.94-2.06-.94-.94-2.06-.94 2.06-2.06.94zm-11 1L8.5 8.5l.94-2.06 2.06-.94-2.06-.94L8.5 2.5l-.94 2.06-2.06.94zm10 10l.94 2.06.94-2.06 2.06-.94-2.06-.94-.94-2.06-.94 2.06-2.06.94z\"/><path d=\"M17.41 7.96l-1.37-1.37c-.4-.4-.92-.59-1.43-.59-.52 0-1.04.2-1.43.59L10.3 9.45l-7.72 7.72c-.78.78-.78 2.05 0 2.83L4 21.41c.39.39.9.59 1.41.59.51 0 1.02-.2 1.41-.59l7.78-7.78 2.81-2.81c.8-.78.8-2.07 0-2.86zM5.41 20L4 18.59l7.72-7.72 1.47 1.35L5.41 20z\"/>\n",
              "  </svg>\n",
              "      </button>\n",
              "      \n",
              "  <style>\n",
              "    .colab-df-container {\n",
              "      display:flex;\n",
              "      flex-wrap:wrap;\n",
              "      gap: 12px;\n",
              "    }\n",
              "\n",
              "    .colab-df-convert {\n",
              "      background-color: #E8F0FE;\n",
              "      border: none;\n",
              "      border-radius: 50%;\n",
              "      cursor: pointer;\n",
              "      display: none;\n",
              "      fill: #1967D2;\n",
              "      height: 32px;\n",
              "      padding: 0 0 0 0;\n",
              "      width: 32px;\n",
              "    }\n",
              "\n",
              "    .colab-df-convert:hover {\n",
              "      background-color: #E2EBFA;\n",
              "      box-shadow: 0px 1px 2px rgba(60, 64, 67, 0.3), 0px 1px 3px 1px rgba(60, 64, 67, 0.15);\n",
              "      fill: #174EA6;\n",
              "    }\n",
              "\n",
              "    [theme=dark] .colab-df-convert {\n",
              "      background-color: #3B4455;\n",
              "      fill: #D2E3FC;\n",
              "    }\n",
              "\n",
              "    [theme=dark] .colab-df-convert:hover {\n",
              "      background-color: #434B5C;\n",
              "      box-shadow: 0px 1px 3px 1px rgba(0, 0, 0, 0.15);\n",
              "      filter: drop-shadow(0px 1px 2px rgba(0, 0, 0, 0.3));\n",
              "      fill: #FFFFFF;\n",
              "    }\n",
              "  </style>\n",
              "\n",
              "      <script>\n",
              "        const buttonEl =\n",
              "          document.querySelector('#df-4d69b24a-9816-4b94-8d14-94c6f7ec410f button.colab-df-convert');\n",
              "        buttonEl.style.display =\n",
              "          google.colab.kernel.accessAllowed ? 'block' : 'none';\n",
              "\n",
              "        async function convertToInteractive(key) {\n",
              "          const element = document.querySelector('#df-4d69b24a-9816-4b94-8d14-94c6f7ec410f');\n",
              "          const dataTable =\n",
              "            await google.colab.kernel.invokeFunction('convertToInteractive',\n",
              "                                                     [key], {});\n",
              "          if (!dataTable) return;\n",
              "\n",
              "          const docLinkHtml = 'Like what you see? Visit the ' +\n",
              "            '<a target=\"_blank\" href=https://colab.research.google.com/notebooks/data_table.ipynb>data table notebook</a>'\n",
              "            + ' to learn more about interactive tables.';\n",
              "          element.innerHTML = '';\n",
              "          dataTable['output_type'] = 'display_data';\n",
              "          await google.colab.output.renderOutput(dataTable, element);\n",
              "          const docLink = document.createElement('div');\n",
              "          docLink.innerHTML = docLinkHtml;\n",
              "          element.appendChild(docLink);\n",
              "        }\n",
              "      </script>\n",
              "    </div>\n",
              "  </div>\n",
              "  "
            ]
          },
          "metadata": {},
          "execution_count": 2
        }
      ],
      "source": [
        "stock_ticker = 'AAPL'\n",
        "start = pd.to_datetime(['2007-01-01']).astype(int)[0]//10**9 # convert to unix timestamp.\n",
        "end = pd.to_datetime(['2022-05-06']).astype(int)[0]//10**9 # convert to unix timestamp.\n",
        "url = 'https://query1.finance.yahoo.com/v7/finance/download/' + stock_ticker + '?period1=' + str(start) + '&period2=' + str(end) + '&interval=1d&events=history'\n",
        "df = pd.read_csv(url)\n",
        "df.tail()"
      ]
    },
    {
      "cell_type": "code",
      "execution_count": 3,
      "metadata": {
        "colab": {
          "base_uri": "https://localhost:8080/",
          "height": 282
        },
        "id": "Z5ib1Mvi0Qi3",
        "outputId": "671a3e58-eb33-4d33-8c8c-49d2fb049704"
      },
      "outputs": [
        {
          "output_type": "execute_result",
          "data": {
            "text/plain": [
              "[<matplotlib.lines.Line2D at 0x7ff7be2afed0>]"
            ]
          },
          "metadata": {},
          "execution_count": 3
        },
        {
          "output_type": "display_data",
          "data": {
            "text/plain": [
              "<Figure size 432x288 with 1 Axes>"
            ],
            "image/png": "[encoded data removed]"
          },
          "metadata": {
            "needs_background": "light"
          }
        }
      ],
      "source": [
        "plt.plot(df['Adj Close']) # Plotting the Adjusted closing price "
      ]
    },
    {
      "cell_type": "code",
      "execution_count": 4,
      "metadata": {
        "colab": {
          "base_uri": "https://localhost:8080/",
          "height": 206
        },
        "id": "_19Dcht00Qi8",
        "outputId": "5ef04bc0-496f-4c0b-bf3b-309827db910b"
      },
      "outputs": [
        {
          "output_type": "execute_result",
          "data": {
            "text/plain": [
              "       Open      High       Low  Adj Close      Volume\n",
              "0  3.081786  3.092143  2.925000   2.562706  1238319600\n",
              "1  3.001786  3.069643  2.993571   2.619588   847260400\n",
              "2  3.063214  3.078571  3.014286   2.600933   834741600\n",
              "3  3.070000  3.090357  3.045714   2.613777   797106800\n",
              "4  3.087500  3.320714  3.041071   2.830903  3349298400"
            ],
            "text/html": [
              "\n",
              "  <div id=\"df-ef654489-de2a-4c84-993b-1f7ff6faa07f\">\n",
              "    <div class=\"colab-df-container\">\n",
              "      <div>\n",
              "<style scoped>\n",
              "    .dataframe tbody tr th:only-of-type {\n",
              "        vertical-align: middle;\n",
              "    }\n",
              "\n",
              "    .dataframe tbody tr th {\n",
              "        vertical-align: top;\n",
              "    }\n",
              "\n",
              "    .dataframe thead th {\n",
              "        text-align: right;\n",
              "    }\n",
              "</style>\n",
              "<table border=\"1\" class=\"dataframe\">\n",
              "  <thead>\n",
              "    <tr style=\"text-align: right;\">\n",
              "      <th></th>\n",
              "      <th>Open</th>\n",
              "      <th>High</th>\n",
              "      <th>Low</th>\n",
              "      <th>Adj Close</th>\n",
              "      <th>Volume</th>\n",
              "    </tr>\n",
              "  </thead>\n",
              "  <tbody>\n",
              "    <tr>\n",
              "      <th>0</th>\n",
              "      <td>3.081786</td>\n",
              "      <td>3.092143</td>\n",
              "      <td>2.925000</td>\n",
              "      <td>2.562706</td>\n",
              "      <td>1238319600</td>\n",
              "    </tr>\n",
              "    <tr>\n",
              "      <th>1</th>\n",
              "      <td>3.001786</td>\n",
              "      <td>3.069643</td>\n",
              "      <td>2.993571</td>\n",
              "      <td>2.619588</td>\n",
              "      <td>847260400</td>\n",
              "    </tr>\n",
              "    <tr>\n",
              "      <th>2</th>\n",
              "      <td>3.063214</td>\n",
              "      <td>3.078571</td>\n",
              "      <td>3.014286</td>\n",
              "      <td>2.600933</td>\n",
              "      <td>834741600</td>\n",
              "    </tr>\n",
              "    <tr>\n",
              "      <th>3</th>\n",
              "      <td>3.070000</td>\n",
              "      <td>3.090357</td>\n",
              "      <td>3.045714</td>\n",
              "      <td>2.613777</td>\n",
              "      <td>797106800</td>\n",
              "    </tr>\n",
              "    <tr>\n",
              "      <th>4</th>\n",
              "      <td>3.087500</td>\n",
              "      <td>3.320714</td>\n",
              "      <td>3.041071</td>\n",
              "      <td>2.830903</td>\n",
              "      <td>3349298400</td>\n",
              "    </tr>\n",
              "  </tbody>\n",
              "</table>\n",
              "</div>\n",
              "      <button class=\"colab-df-convert\" onclick=\"convertToInteractive('df-ef654489-de2a-4c84-993b-1f7ff6faa07f')\"\n",
              "              title=\"Convert this dataframe to an interactive table.\"\n",
              "              style=\"display:none;\">\n",
              "        \n",
              "  <svg xmlns=\"http://www.w3.org/2000/svg\" height=\"24px\"viewBox=\"0 0 24 24\"\n",
              "       width=\"24px\">\n",
              "    <path d=\"M0 0h24v24H0V0z\" fill=\"none\"/>\n",
              "    <path d=\"M18.56 5.44l.94 2.06.94-2.06 2.06-.94-2.06-.94-.94-2.06-.94 2.06-2.06.94zm-11 1L8.5 8.5l.94-2.06 2.06-.94-2.06-.94L8.5 2.5l-.94 2.06-2.06.94zm10 10l.94 2.06.94-2.06 2.06-.94-2.06-.94-.94-2.06-.94 2.06-2.06.94z\"/><path d=\"M17.41 7.96l-1.37-1.37c-.4-.4-.92-.59-1.43-.59-.52 0-1.04.2-1.43.59L10.3 9.45l-7.72 7.72c-.78.78-.78 2.05 0 2.83L4 21.41c.39.39.9.59 1.41.59.51 0 1.02-.2 1.41-.59l7.78-7.78 2.81-2.81c.8-.78.8-2.07 0-2.86zM5.41 20L4 18.59l7.72-7.72 1.47 1.35L5.41 20z\"/>\n",
              "  </svg>\n",
              "      </button>\n",
              "      \n",
              "  <style>\n",
              "    .colab-df-container {\n",
              "      display:flex;\n",
              "      flex-wrap:wrap;\n",
              "      gap: 12px;\n",
              "    }\n",
              "\n",
              "    .colab-df-convert {\n",
              "      background-color: #E8F0FE;\n",
              "      border: none;\n",
              "      border-radius: 50%;\n",
              "      cursor: pointer;\n",
              "      display: none;\n",
              "      fill: #1967D2;\n",
              "      height: 32px;\n",
              "      padding: 0 0 0 0;\n",
              "      width: 32px;\n",
              "    }\n",
              "\n",
              "    .colab-df-convert:hover {\n",
              "      background-color: #E2EBFA;\n",
              "      box-shadow: 0px 1px 2px rgba(60, 64, 67, 0.3), 0px 1px 3px 1px rgba(60, 64, 67, 0.15);\n",
              "      fill: #174EA6;\n",
              "    }\n",
              "\n",
              "    [theme=dark] .colab-df-convert {\n",
              "      background-color: #3B4455;\n",
              "      fill: #D2E3FC;\n",
              "    }\n",
              "\n",
              "    [theme=dark] .colab-df-convert:hover {\n",
              "      background-color: #434B5C;\n",
              "      box-shadow: 0px 1px 3px 1px rgba(0, 0, 0, 0.15);\n",
              "      filter: drop-shadow(0px 1px 2px rgba(0, 0, 0, 0.3));\n",
              "      fill: #FFFFFF;\n",
              "    }\n",
              "  </style>\n",
              "\n",
              "      <script>\n",
              "        const buttonEl =\n",
              "          document.querySelector('#df-ef654489-de2a-4c84-993b-1f7ff6faa07f button.colab-df-convert');\n",
              "        buttonEl.style.display =\n",
              "          google.colab.kernel.accessAllowed ? 'block' : 'none';\n",
              "\n",
              "        async function convertToInteractive(key) {\n",
              "          const element = document.querySelector('#df-ef654489-de2a-4c84-993b-1f7ff6faa07f');\n",
              "          const dataTable =\n",
              "            await google.colab.kernel.invokeFunction('convertToInteractive',\n",
              "                                                     [key], {});\n",
              "          if (!dataTable) return;\n",
              "\n",
              "          const docLinkHtml = 'Like what you see? Visit the ' +\n",
              "            '<a target=\"_blank\" href=https://colab.research.google.com/notebooks/data_table.ipynb>data table notebook</a>'\n",
              "            + ' to learn more about interactive tables.';\n",
              "          element.innerHTML = '';\n",
              "          dataTable['output_type'] = 'display_data';\n",
              "          await google.colab.output.renderOutput(dataTable, element);\n",
              "          const docLink = document.createElement('div');\n",
              "          docLink.innerHTML = docLinkHtml;\n",
              "          element.appendChild(docLink);\n",
              "        }\n",
              "      </script>\n",
              "    </div>\n",
              "  </div>\n",
              "  "
            ]
          },
          "metadata": {},
          "execution_count": 4
        }
      ],
      "source": [
        "df = df.drop(['Date', 'Close'], axis = 1)\n",
        "df.head()"
      ]
    },
    {
      "cell_type": "markdown",
      "metadata": {
        "id": "F4xK8ONhJHIC"
      },
      "source": [
        "A moving average (MA) is a widely used technical indicator that smooths out price trends by filtering out the noise from random short-term price fluctuations"
      ]
    },
    {
      "cell_type": "code",
      "execution_count": 5,
      "metadata": {
        "id": "72qryRIHEnGD"
      },
      "outputs": [],
      "source": [
        "ma100 = df['Adj Close'].rolling(100).mean() # 100 days moving average\n",
        "ma200 = df['Adj Close'].rolling(200).mean() # 200 days moving average"
      ]
    },
    {
      "cell_type": "code",
      "execution_count": 6,
      "metadata": {
        "colab": {
          "base_uri": "https://localhost:8080/",
          "height": 391
        },
        "id": "CcfJ8HXAEy6E",
        "outputId": "284d17b1-fc0a-470d-c064-8393f3b0b5a3"
      },
      "outputs": [
        {
          "output_type": "execute_result",
          "data": {
            "text/plain": [
              "[<matplotlib.lines.Line2D at 0x7ff7b78e1610>]"
            ]
          },
          "metadata": {},
          "execution_count": 6
        },
        {
          "output_type": "display_data",
          "data": {
            "text/plain": [
              "<Figure size 864x432 with 1 Axes>"
            ],
            "image/png": "[encoded data removed]"
          },
          "metadata": {
            "needs_background": "light"
          }
        }
      ],
      "source": [
        "plt.figure(figsize=(12,6))\n",
        "plt.plot(df['Adj Close'])\n",
        "plt.plot(ma100, 'r')\n",
        "plt.plot(ma200, 'g')"
      ]
    },
    {
      "cell_type": "markdown",
      "metadata": {
        "id": "vCNXX8c_JHII"
      },
      "source": [
        "## Dividing the data into training and testing sets"
      ]
    },
    {
      "cell_type": "code",
      "execution_count": 7,
      "metadata": {
        "colab": {
          "base_uri": "https://localhost:8080/",
          "height": 206
        },
        "id": "3M3ubwsxFJ0J",
        "outputId": "4dc1293a-79ff-4b14-a4b9-52f5bb16a9f5"
      },
      "outputs": [
        {
          "output_type": "execute_result",
          "data": {
            "text/plain": [
              "   Adj Close\n",
              "0   2.562706\n",
              "1   2.619588\n",
              "2   2.600933\n",
              "3   2.613777\n",
              "4   2.830903"
            ],
            "text/html": [
              "\n",
              "  <div id=\"df-8479f5b4-1193-484e-9154-04593847c8b7\">\n",
              "    <div class=\"colab-df-container\">\n",
              "      <div>\n",
              "<style scoped>\n",
              "    .dataframe tbody tr th:only-of-type {\n",
              "        vertical-align: middle;\n",
              "    }\n",
              "\n",
              "    .dataframe tbody tr th {\n",
              "        vertical-align: top;\n",
              "    }\n",
              "\n",
              "    .dataframe thead th {\n",
              "        text-align: right;\n",
              "    }\n",
              "</style>\n",
              "<table border=\"1\" class=\"dataframe\">\n",
              "  <thead>\n",
              "    <tr style=\"text-align: right;\">\n",
              "      <th></th>\n",
              "      <th>Adj Close</th>\n",
              "    </tr>\n",
              "  </thead>\n",
              "  <tbody>\n",
              "    <tr>\n",
              "      <th>0</th>\n",
              "      <td>2.562706</td>\n",
              "    </tr>\n",
              "    <tr>\n",
              "      <th>1</th>\n",
              "      <td>2.619588</td>\n",
              "    </tr>\n",
              "    <tr>\n",
              "      <th>2</th>\n",
              "      <td>2.600933</td>\n",
              "    </tr>\n",
              "    <tr>\n",
              "      <th>3</th>\n",
              "      <td>2.613777</td>\n",
              "    </tr>\n",
              "    <tr>\n",
              "      <th>4</th>\n",
              "      <td>2.830903</td>\n",
              "    </tr>\n",
              "  </tbody>\n",
              "</table>\n",
              "</div>\n",
              "      <button class=\"colab-df-convert\" onclick=\"convertToInteractive('df-8479f5b4-1193-484e-9154-04593847c8b7')\"\n",
              "              title=\"Convert this dataframe to an interactive table.\"\n",
              "              style=\"display:none;\">\n",
              "        \n",
              "  <svg xmlns=\"http://www.w3.org/2000/svg\" height=\"24px\"viewBox=\"0 0 24 24\"\n",
              "       width=\"24px\">\n",
              "    <path d=\"M0 0h24v24H0V0z\" fill=\"none\"/>\n",
              "    <path d=\"M18.56 5.44l.94 2.06.94-2.06 2.06-.94-2.06-.94-.94-2.06-.94 2.06-2.06.94zm-11 1L8.5 8.5l.94-2.06 2.06-.94-2.06-.94L8.5 2.5l-.94 2.06-2.06.94zm10 10l.94 2.06.94-2.06 2.06-.94-2.06-.94-.94-2.06-.94 2.06-2.06.94z\"/><path d=\"M17.41 7.96l-1.37-1.37c-.4-.4-.92-.59-1.43-.59-.52 0-1.04.2-1.43.59L10.3 9.45l-7.72 7.72c-.78.78-.78 2.05 0 2.83L4 21.41c.39.39.9.59 1.41.59.51 0 1.02-.2 1.41-.59l7.78-7.78 2.81-2.81c.8-.78.8-2.07 0-2.86zM5.41 20L4 18.59l7.72-7.72 1.47 1.35L5.41 20z\"/>\n",
              "  </svg>\n",
              "      </button>\n",
              "      \n",
              "  <style>\n",
              "    .colab-df-container {\n",
              "      display:flex;\n",
              "      flex-wrap:wrap;\n",
              "      gap: 12px;\n",
              "    }\n",
              "\n",
              "    .colab-df-convert {\n",
              "      background-color: #E8F0FE;\n",
              "      border: none;\n",
              "      border-radius: 50%;\n",
              "      cursor: pointer;\n",
              "      display: none;\n",
              "      fill: #1967D2;\n",
              "      height: 32px;\n",
              "      padding: 0 0 0 0;\n",
              "      width: 32px;\n",
              "    }\n",
              "\n",
              "    .colab-df-convert:hover {\n",
              "      background-color: #E2EBFA;\n",
              "      box-shadow: 0px 1px 2px rgba(60, 64, 67, 0.3), 0px 1px 3px 1px rgba(60, 64, 67, 0.15);\n",
              "      fill: #174EA6;\n",
              "    }\n",
              "\n",
              "    [theme=dark] .colab-df-convert {\n",
              "      background-color: #3B4455;\n",
              "      fill: #D2E3FC;\n",
              "    }\n",
              "\n",
              "    [theme=dark] .colab-df-convert:hover {\n",
              "      background-color: #434B5C;\n",
              "      box-shadow: 0px 1px 3px 1px rgba(0, 0, 0, 0.15);\n",
              "      filter: drop-shadow(0px 1px 2px rgba(0, 0, 0, 0.3));\n",
              "      fill: #FFFFFF;\n",
              "    }\n",
              "  </style>\n",
              "\n",
              "      <script>\n",
              "        const buttonEl =\n",
              "          document.querySelector('#df-8479f5b4-1193-484e-9154-04593847c8b7 button.colab-df-convert');\n",
              "        buttonEl.style.display =\n",
              "          google.colab.kernel.accessAllowed ? 'block' : 'none';\n",
              "\n",
              "        async function convertToInteractive(key) {\n",
              "          const element = document.querySelector('#df-8479f5b4-1193-484e-9154-04593847c8b7');\n",
              "          const dataTable =\n",
              "            await google.colab.kernel.invokeFunction('convertToInteractive',\n",
              "                                                     [key], {});\n",
              "          if (!dataTable) return;\n",
              "\n",
              "          const docLinkHtml = 'Like what you see? Visit the ' +\n",
              "            '<a target=\"_blank\" href=https://colab.research.google.com/notebooks/data_table.ipynb>data table notebook</a>'\n",
              "            + ' to learn more about interactive tables.';\n",
              "          element.innerHTML = '';\n",
              "          dataTable['output_type'] = 'display_data';\n",
              "          await google.colab.output.renderOutput(dataTable, element);\n",
              "          const docLink = document.createElement('div');\n",
              "          docLink.innerHTML = docLinkHtml;\n",
              "          element.appendChild(docLink);\n",
              "        }\n",
              "      </script>\n",
              "    </div>\n",
              "  </div>\n",
              "  "
            ]
          },
          "metadata": {},
          "execution_count": 7
        }
      ],
      "source": [
        "data_training = pd.DataFrame(df['Adj Close'][:int(len(df)*0.70)])\n",
        "data_testing = pd.DataFrame(df['Adj Close'][int(len(df)*0.70):int(len(df))])\n",
        "data_training.head()"
      ]
    },
    {
      "cell_type": "code",
      "execution_count": 8,
      "metadata": {
        "colab": {
          "base_uri": "https://localhost:8080/"
        },
        "id": "Io5he-BzGR5W",
        "outputId": "874bea3a-817d-4bcd-edbc-ead246316c1b"
      },
      "outputs": [
        {
          "output_type": "execute_result",
          "data": {
            "text/plain": [
              "(2704, 1)"
            ]
          },
          "metadata": {},
          "execution_count": 8
        }
      ],
      "source": [
        "data_training1 = np.array(data_training)\n",
        "data_training1.shape"
      ]
    },
    {
      "cell_type": "markdown",
      "metadata": {
        "id": "sYLhiFQjJHIM"
      },
      "source": [
        "We will use the Adjusted closing price of the stock of 100 days to predict the Adlusted closing price for the 101st day. Thus, the 100 prices will form the features for the 101st day."
      ]
    },
    {
      "cell_type": "code",
      "execution_count": 9,
      "metadata": {
        "id": "aAk9qXP5JnWO"
      },
      "outputs": [],
      "source": [
        "from sklearn.preprocessing import MinMaxScaler\n",
        "sca = MinMaxScaler(feature_range=(0,1))\n",
        "data_training1 = sca.fit_transform(data_training1)"
      ]
    },
    {
      "cell_type": "code",
      "execution_count": 10,
      "metadata": {
        "id": "Y5dfew1_GuHk"
      },
      "outputs": [],
      "source": [
        "x_train = []\n",
        "y_train = []\n",
        "for i in range(100, data_training1.shape[0]):\n",
        "  x_train.append(data_training1[i-100:i])\n",
        "  y_train.append(data_training1[i, 0])\n",
        "\n",
        "x_train, y_train = np.array(x_train), np.array(y_train)\n",
        "x_train = np.reshape(x_train, (x_train.shape[0], x_train.shape[1]))"
      ]
    },
    {
      "cell_type": "code",
      "execution_count": 11,
      "metadata": {
        "colab": {
          "base_uri": "https://localhost:8080/"
        },
        "id": "eeqviPk6IkhO",
        "outputId": "1a643887-00bb-4bb4-fe67-85bc8a3a7d61"
      },
      "outputs": [
        {
          "output_type": "execute_result",
          "data": {
            "text/plain": [
              "(2604, 100)"
            ]
          },
          "metadata": {},
          "execution_count": 11
        }
      ],
      "source": [
        "x_train.shape"
      ]
    },
    {
      "cell_type": "code",
      "execution_count": 12,
      "metadata": {
        "colab": {
          "base_uri": "https://localhost:8080/"
        },
        "id": "333UlIp3JNE2",
        "outputId": "1f9ab468-84a1-4212-ec5f-c6af7d923d9b"
      },
      "outputs": [
        {
          "output_type": "execute_result",
          "data": {
            "text/plain": [
              "array([[0.0161859 ],\n",
              "       [0.01774826],\n",
              "       [0.01658451],\n",
              "       ...,\n",
              "       [0.84939454],\n",
              "       [0.89356636],\n",
              "       [0.831091  ]])"
            ]
          },
          "metadata": {},
          "execution_count": 12
        }
      ],
      "source": [
        "past100 = data_training.tail(100)\n",
        "data_testing = past100.append(data_testing, ignore_index = True)\n",
        "input_data = np.array(data_testing)\n",
        "\n",
        "input_data = sca.fit_transform(input_data)\n",
        "input_data"
      ]
    },
    {
      "cell_type": "code",
      "execution_count": 13,
      "metadata": {
        "id": "FP9NFaE1ghUk"
      },
      "outputs": [],
      "source": [
        "x_test = []\n",
        "y_test = []\n",
        "for i in range(100, input_data.shape[0]):\n",
        "  x_test.append(input_data[i-100:i])\n",
        "  y_test.append(input_data[i, 0])\n",
        "\n",
        "x_test, y_test = np.array(x_test), np.array(y_test)\n",
        "x_test = np.reshape(x_test, (x_test.shape[0], x_test.shape[1]))"
      ]
    },
    {
      "cell_type": "markdown",
      "metadata": {
        "id": "2qzcr1z3nASv"
      },
      "source": [
        "We will be using a Ensemble Learning model which uses Voting Regressor made up of Linear Regressor, Random Forest Classifier and Support Vector Regressor."
      ]
    },
    {
      "cell_type": "code",
      "execution_count": 14,
      "metadata": {
        "id": "PuwQyX27d0er"
      },
      "outputs": [],
      "source": [
        "from sklearn.linear_model import LinearRegression\n",
        "from sklearn.ensemble import RandomForestRegressor\n",
        "from sklearn.svm import SVR\n",
        "from sklearn.ensemble import VotingRegressor\n",
        "from xgboost import XGBRegressor\n",
        "from sklearn.model_selection import cross_val_score\n",
        "r2 = RandomForestRegressor(n_estimators=25, random_state=1)\n",
        "r3 = SVR()\n",
        "r4 = XGBRegressor(verbosity=0)\n",
        "er = VotingRegressor([('xgb', r4), ('rf', r2)])"
      ]
    },
    {
      "cell_type": "code",
      "execution_count": 15,
      "metadata": {
        "colab": {
          "base_uri": "https://localhost:8080/"
        },
        "id": "moSIi5-1OWM8",
        "outputId": "2e9751f3-1573-4575-c55d-6d8a123ea0de"
      },
      "outputs": [
        {
          "output_type": "stream",
          "name": "stdout",
          "text": [
            "Mean: 38.28714806453803\n",
            "Standard deviation: 5.431315459817039\n",
            "Mean: 44.4060544583859\n",
            "Standard deviation: 10.458910909253788\n",
            "Mean: 38.54373690204248\n",
            "Standard deviation: 5.819628017276229\n",
            "Mean: 38.31862667269733\n",
            "Standard deviation: 5.650572748756555\n"
          ]
        }
      ],
      "source": [
        "from sklearn.model_selection import cross_val_score\n",
        "score_lst = []\n",
        "r2_scores = cross_val_score(r2, x_train, y_train, scoring=\"neg_mean_squared_error\", cv=10)\n",
        "r2_rmse_scores = np.sqrt(-r2_scores)\n",
        "r3_scores = cross_val_score(r3, x_train, y_train, scoring=\"neg_mean_squared_error\", cv=10)\n",
        "r3_rmse_scores = np.sqrt(-r3_scores)\n",
        "r4_scores = cross_val_score(r4, x_train, y_train, scoring=\"neg_mean_squared_error\", cv=10)\n",
        "r4_rmse_scores = np.sqrt(-r4_scores)\n",
        "er_scores = cross_val_score(er, x_train, y_train, scoring=\"neg_mean_squared_error\", cv=10)\n",
        "er_rmse_scores = np.sqrt(-er_scores)\n",
        "def display_scores(scores):\n",
        "    print(\"Mean:\", scores.mean())\n",
        "    print(\"Standard deviation:\", scores.std())\n",
        "    score_lst.append(scores.mean())\n",
        "display_scores(sca.inverse_transform([r2_rmse_scores]))\n",
        "display_scores(sca.inverse_transform([r3_rmse_scores]))\n",
        "display_scores(sca.inverse_transform([r4_rmse_scores]))\n",
        "display_scores(sca.inverse_transform([er_rmse_scores]))"
      ]
    },
    {
      "cell_type": "code",
      "source": [
        "from sklearn.metrics import r2_score\n",
        "r2_pred = r2.fit(x_train, y_train)\n",
        "r3_pred = r3.fit(x_train, y_train)\n",
        "r4_pred = r4.fit(x_train, y_train)\n",
        "er_pred = er.fit(x_train, y_train)\n",
        "r2_pred = r2.predict(x_train)\n",
        "r3_pred = r3.predict(x_train)\n",
        "r4_pred = r4.predict(x_train)\n",
        "er_pred = er.predict(x_train)\n",
        "score_r2 = r2_score(r2_pred, y_train)\n",
        "score_r3 = r2_score(r3_pred, y_train)\n",
        "score_r4 = r2_score(r4_pred, y_train)\n",
        "score_er = r2_score(er_pred, y_train)"
      ],
      "metadata": {
        "id": "p2m--FBYs4AQ"
      },
      "execution_count": 16,
      "outputs": []
    },
    {
      "cell_type": "code",
      "source": [
        "print('R2 score for Random Forest: ', score_r2)\n",
        "print('R2 score for Support Vector: ', score_r3)\n",
        "print('R2 score for Gradient Boost: ', score_r4)\n",
        "print('R2 score for Voting Regressor: ', score_er)"
      ],
      "metadata": {
        "colab": {
          "base_uri": "https://localhost:8080/"
        },
        "id": "PBprDdo1u5WH",
        "outputId": "5baf183e-248e-4cd0-b92f-ee5ab011b9da"
      },
      "execution_count": 17,
      "outputs": [
        {
          "output_type": "stream",
          "name": "stdout",
          "text": [
            "R2 score for Random Forest:  0.9998529482519347\n",
            "R2 score for Support Vector:  0.9647277843835973\n",
            "R2 score for Gradient Boost:  0.9995104841568064\n",
            "R2 score for Voting Regressor:  0.9997310192438373\n"
          ]
        }
      ]
    },
    {
      "cell_type": "code",
      "source": [
        "print(score_lst)\n",
        "x = np.arange(4)\n",
        "plt.figure(figsize=(12,6))\n",
        "plt.bar(x, height=score_lst)\n",
        "plt.xticks(x, ['Random Forest','Support Vector','Gradient Boosting','Voting Regressor']);"
      ],
      "metadata": {
        "colab": {
          "base_uri": "https://localhost:8080/",
          "height": 391
        },
        "id": "N9qSD_pPTbp4",
        "outputId": "8f428c4f-f55a-40dd-ea11-00cbd3dc53b3"
      },
      "execution_count": 18,
      "outputs": [
        {
          "output_type": "stream",
          "name": "stdout",
          "text": [
            "[38.28714806453803, 44.4060544583859, 38.54373690204248, 38.31862667269733]\n"
          ]
        },
        {
          "output_type": "display_data",
          "data": {
            "text/plain": [
              "<Figure size 864x432 with 1 Axes>"
            ],
            "image/png": "[encoded data removed]"
          },
          "metadata": {
            "needs_background": "light"
          }
        }
      ]
    },
    {
      "cell_type": "markdown",
      "metadata": {
        "id": "j4kBaEIo0sRZ"
      },
      "source": [
        "Using Grid Search CV we will find the best hyperparameters for the regressors."
      ]
    },
    {
      "cell_type": "code",
      "execution_count": 19,
      "metadata": {
        "colab": {
          "base_uri": "https://localhost:8080/"
        },
        "id": "aavjNuihr4ye",
        "outputId": "ed459691-e5af-49e5-bc25-b5136257a05f"
      },
      "outputs": [
        {
          "output_type": "stream",
          "name": "stdout",
          "text": [
            "Fitting 5 folds for each of 24 candidates, totalling 120 fits\n",
            "[CV] END ..........rf__n_estimators=5, xgb__n_estimators=100; total time=   2.0s\n",
            "[CV] END ..........rf__n_estimators=5, xgb__n_estimators=100; total time=   1.9s\n",
            "[CV] END ..........rf__n_estimators=5, xgb__n_estimators=100; total time=   1.9s\n",
            "[CV] END ..........rf__n_estimators=5, xgb__n_estimators=100; total time=   1.9s\n",
            "[CV] END ..........rf__n_estimators=5, xgb__n_estimators=100; total time=   1.9s\n",
            "[CV] END ..........rf__n_estimators=5, xgb__n_estimators=150; total time=   2.6s\n",
            "[CV] END ..........rf__n_estimators=5, xgb__n_estimators=150; total time=   2.7s\n",
            "[CV] END ..........rf__n_estimators=5, xgb__n_estimators=150; total time=   2.6s\n",
            "[CV] END ..........rf__n_estimators=5, xgb__n_estimators=150; total time=   2.6s\n",
            "[CV] END ..........rf__n_estimators=5, xgb__n_estimators=150; total time=   2.5s\n",
            "[CV] END ..........rf__n_estimators=5, xgb__n_estimators=200; total time=   3.3s\n",
            "[CV] END ..........rf__n_estimators=5, xgb__n_estimators=200; total time=   3.3s\n",
            "[CV] END ..........rf__n_estimators=5, xgb__n_estimators=200; total time=   3.4s\n",
            "[CV] END ..........rf__n_estimators=5, xgb__n_estimators=200; total time=   3.3s\n",
            "[CV] END ..........rf__n_estimators=5, xgb__n_estimators=200; total time=   3.3s\n",
            "[CV] END .........rf__n_estimators=10, xgb__n_estimators=100; total time=   2.5s\n",
            "[CV] END .........rf__n_estimators=10, xgb__n_estimators=100; total time=   2.5s\n",
            "[CV] END .........rf__n_estimators=10, xgb__n_estimators=100; total time=   2.4s\n",
            "[CV] END .........rf__n_estimators=10, xgb__n_estimators=100; total time=   2.4s\n",
            "[CV] END .........rf__n_estimators=10, xgb__n_estimators=100; total time=   2.4s\n",
            "[CV] END .........rf__n_estimators=10, xgb__n_estimators=150; total time=   3.1s\n",
            "[CV] END .........rf__n_estimators=10, xgb__n_estimators=150; total time=   3.1s\n",
            "[CV] END .........rf__n_estimators=10, xgb__n_estimators=150; total time=   3.1s\n",
            "[CV] END .........rf__n_estimators=10, xgb__n_estimators=150; total time=   3.0s\n",
            "[CV] END .........rf__n_estimators=10, xgb__n_estimators=150; total time=   3.1s\n",
            "[CV] END .........rf__n_estimators=10, xgb__n_estimators=200; total time=   3.8s\n",
            "[CV] END .........rf__n_estimators=10, xgb__n_estimators=200; total time=   3.7s\n",
            "[CV] END .........rf__n_estimators=10, xgb__n_estimators=200; total time=   3.8s\n",
            "[CV] END .........rf__n_estimators=10, xgb__n_estimators=200; total time=   3.9s\n",
            "[CV] END .........rf__n_estimators=10, xgb__n_estimators=200; total time=   3.7s\n",
            "[CV] END .........rf__n_estimators=15, xgb__n_estimators=100; total time=   3.0s\n",
            "[CV] END .........rf__n_estimators=15, xgb__n_estimators=100; total time=   2.9s\n",
            "[CV] END .........rf__n_estimators=15, xgb__n_estimators=100; total time=   2.9s\n",
            "[CV] END .........rf__n_estimators=15, xgb__n_estimators=100; total time=   2.9s\n",
            "[CV] END .........rf__n_estimators=15, xgb__n_estimators=100; total time=   2.9s\n",
            "[CV] END .........rf__n_estimators=15, xgb__n_estimators=150; total time=   3.6s\n",
            "[CV] END .........rf__n_estimators=15, xgb__n_estimators=150; total time=   3.5s\n",
            "[CV] END .........rf__n_estimators=15, xgb__n_estimators=150; total time=   3.6s\n",
            "[CV] END .........rf__n_estimators=15, xgb__n_estimators=150; total time=   3.5s\n",
            "[CV] END .........rf__n_estimators=15, xgb__n_estimators=150; total time=   3.5s\n",
            "[CV] END .........rf__n_estimators=15, xgb__n_estimators=200; total time=   4.2s\n",
            "[CV] END .........rf__n_estimators=15, xgb__n_estimators=200; total time=   4.2s\n",
            "[CV] END .........rf__n_estimators=15, xgb__n_estimators=200; total time=   4.3s\n",
            "[CV] END .........rf__n_estimators=15, xgb__n_estimators=200; total time=   4.2s\n",
            "[CV] END .........rf__n_estimators=15, xgb__n_estimators=200; total time=   4.3s\n",
            "[CV] END .........rf__n_estimators=20, xgb__n_estimators=100; total time=   3.5s\n",
            "[CV] END .........rf__n_estimators=20, xgb__n_estimators=100; total time=   3.6s\n",
            "[CV] END .........rf__n_estimators=20, xgb__n_estimators=100; total time=   3.5s\n",
            "[CV] END .........rf__n_estimators=20, xgb__n_estimators=100; total time=   3.4s\n",
            "[CV] END .........rf__n_estimators=20, xgb__n_estimators=100; total time=   3.4s\n",
            "[CV] END .........rf__n_estimators=20, xgb__n_estimators=150; total time=   4.1s\n",
            "[CV] END .........rf__n_estimators=20, xgb__n_estimators=150; total time=   4.1s\n",
            "[CV] END .........rf__n_estimators=20, xgb__n_estimators=150; total time=   4.1s\n",
            "[CV] END .........rf__n_estimators=20, xgb__n_estimators=150; total time=   4.0s\n",
            "[CV] END .........rf__n_estimators=20, xgb__n_estimators=150; total time=   4.1s\n",
            "[CV] END .........rf__n_estimators=20, xgb__n_estimators=200; total time=   4.7s\n",
            "[CV] END .........rf__n_estimators=20, xgb__n_estimators=200; total time=   4.8s\n",
            "[CV] END .........rf__n_estimators=20, xgb__n_estimators=200; total time=   4.8s\n",
            "[CV] END .........rf__n_estimators=20, xgb__n_estimators=200; total time=   4.9s\n",
            "[CV] END .........rf__n_estimators=20, xgb__n_estimators=200; total time=   4.9s\n",
            "[CV] END rf__bootstrap=False, rf__n_estimators=5, xgb__n_estimators=100; total time=   2.3s\n",
            "[CV] END rf__bootstrap=False, rf__n_estimators=5, xgb__n_estimators=100; total time=   2.4s\n",
            "[CV] END rf__bootstrap=False, rf__n_estimators=5, xgb__n_estimators=100; total time=   2.4s\n",
            "[CV] END rf__bootstrap=False, rf__n_estimators=5, xgb__n_estimators=100; total time=   2.3s\n",
            "[CV] END rf__bootstrap=False, rf__n_estimators=5, xgb__n_estimators=100; total time=   2.3s\n",
            "[CV] END rf__bootstrap=False, rf__n_estimators=5, xgb__n_estimators=150; total time=   2.9s\n",
            "[CV] END rf__bootstrap=False, rf__n_estimators=5, xgb__n_estimators=150; total time=   3.0s\n",
            "[CV] END rf__bootstrap=False, rf__n_estimators=5, xgb__n_estimators=150; total time=   3.0s\n",
            "[CV] END rf__bootstrap=False, rf__n_estimators=5, xgb__n_estimators=150; total time=   3.0s\n",
            "[CV] END rf__bootstrap=False, rf__n_estimators=5, xgb__n_estimators=150; total time=   3.0s\n",
            "[CV] END rf__bootstrap=False, rf__n_estimators=5, xgb__n_estimators=200; total time=   3.8s\n",
            "[CV] END rf__bootstrap=False, rf__n_estimators=5, xgb__n_estimators=200; total time=   3.7s\n",
            "[CV] END rf__bootstrap=False, rf__n_estimators=5, xgb__n_estimators=200; total time=   3.7s\n",
            "[CV] END rf__bootstrap=False, rf__n_estimators=5, xgb__n_estimators=200; total time=   3.6s\n",
            "[CV] END rf__bootstrap=False, rf__n_estimators=5, xgb__n_estimators=200; total time=   3.7s\n",
            "[CV] END rf__bootstrap=False, rf__n_estimators=10, xgb__n_estimators=100; total time=   3.2s\n",
            "[CV] END rf__bootstrap=False, rf__n_estimators=10, xgb__n_estimators=100; total time=   3.3s\n",
            "[CV] END rf__bootstrap=False, rf__n_estimators=10, xgb__n_estimators=100; total time=   3.3s\n",
            "[CV] END rf__bootstrap=False, rf__n_estimators=10, xgb__n_estimators=100; total time=   3.3s\n",
            "[CV] END rf__bootstrap=False, rf__n_estimators=10, xgb__n_estimators=100; total time=   3.3s\n",
            "[CV] END rf__bootstrap=False, rf__n_estimators=10, xgb__n_estimators=150; total time=   4.0s\n",
            "[CV] END rf__bootstrap=False, rf__n_estimators=10, xgb__n_estimators=150; total time=   4.0s\n",
            "[CV] END rf__bootstrap=False, rf__n_estimators=10, xgb__n_estimators=150; total time=   3.9s\n",
            "[CV] END rf__bootstrap=False, rf__n_estimators=10, xgb__n_estimators=150; total time=   3.9s\n",
            "[CV] END rf__bootstrap=False, rf__n_estimators=10, xgb__n_estimators=150; total time=   3.9s\n",
            "[CV] END rf__bootstrap=False, rf__n_estimators=10, xgb__n_estimators=200; total time=   4.5s\n",
            "[CV] END rf__bootstrap=False, rf__n_estimators=10, xgb__n_estimators=200; total time=   4.8s\n",
            "[CV] END rf__bootstrap=False, rf__n_estimators=10, xgb__n_estimators=200; total time=   4.6s\n",
            "[CV] END rf__bootstrap=False, rf__n_estimators=10, xgb__n_estimators=200; total time=   4.6s\n",
            "[CV] END rf__bootstrap=False, rf__n_estimators=10, xgb__n_estimators=200; total time=   4.5s\n",
            "[CV] END rf__bootstrap=False, rf__n_estimators=15, xgb__n_estimators=100; total time=   4.2s\n",
            "[CV] END rf__bootstrap=False, rf__n_estimators=15, xgb__n_estimators=100; total time=   4.1s\n",
            "[CV] END rf__bootstrap=False, rf__n_estimators=15, xgb__n_estimators=100; total time=   4.1s\n",
            "[CV] END rf__bootstrap=False, rf__n_estimators=15, xgb__n_estimators=100; total time=   4.1s\n",
            "[CV] END rf__bootstrap=False, rf__n_estimators=15, xgb__n_estimators=100; total time=   4.3s\n",
            "[CV] END rf__bootstrap=False, rf__n_estimators=15, xgb__n_estimators=150; total time=   4.8s\n",
            "[CV] END rf__bootstrap=False, rf__n_estimators=15, xgb__n_estimators=150; total time=   4.9s\n",
            "[CV] END rf__bootstrap=False, rf__n_estimators=15, xgb__n_estimators=150; total time=   4.8s\n",
            "[CV] END rf__bootstrap=False, rf__n_estimators=15, xgb__n_estimators=150; total time=   4.8s\n",
            "[CV] END rf__bootstrap=False, rf__n_estimators=15, xgb__n_estimators=150; total time=   5.0s\n",
            "[CV] END rf__bootstrap=False, rf__n_estimators=15, xgb__n_estimators=200; total time=   5.6s\n",
            "[CV] END rf__bootstrap=False, rf__n_estimators=15, xgb__n_estimators=200; total time=   5.5s\n",
            "[CV] END rf__bootstrap=False, rf__n_estimators=15, xgb__n_estimators=200; total time=   5.6s\n",
            "[CV] END rf__bootstrap=False, rf__n_estimators=15, xgb__n_estimators=200; total time=   5.5s\n",
            "[CV] END rf__bootstrap=False, rf__n_estimators=15, xgb__n_estimators=200; total time=   5.5s\n",
            "[CV] END rf__bootstrap=False, rf__n_estimators=20, xgb__n_estimators=100; total time=   5.1s\n",
            "[CV] END rf__bootstrap=False, rf__n_estimators=20, xgb__n_estimators=100; total time=   5.2s\n",
            "[CV] END rf__bootstrap=False, rf__n_estimators=20, xgb__n_estimators=100; total time=   5.1s\n",
            "[CV] END rf__bootstrap=False, rf__n_estimators=20, xgb__n_estimators=100; total time=   5.1s\n",
            "[CV] END rf__bootstrap=False, rf__n_estimators=20, xgb__n_estimators=100; total time=   5.0s\n",
            "[CV] END rf__bootstrap=False, rf__n_estimators=20, xgb__n_estimators=150; total time=   5.9s\n",
            "[CV] END rf__bootstrap=False, rf__n_estimators=20, xgb__n_estimators=150; total time=   5.8s\n",
            "[CV] END rf__bootstrap=False, rf__n_estimators=20, xgb__n_estimators=150; total time=   5.8s\n",
            "[CV] END rf__bootstrap=False, rf__n_estimators=20, xgb__n_estimators=150; total time=   5.8s\n",
            "[CV] END rf__bootstrap=False, rf__n_estimators=20, xgb__n_estimators=150; total time=   5.8s\n",
            "[CV] END rf__bootstrap=False, rf__n_estimators=20, xgb__n_estimators=200; total time=   6.4s\n",
            "[CV] END rf__bootstrap=False, rf__n_estimators=20, xgb__n_estimators=200; total time=   6.6s\n",
            "[CV] END rf__bootstrap=False, rf__n_estimators=20, xgb__n_estimators=200; total time=   6.6s\n",
            "[CV] END rf__bootstrap=False, rf__n_estimators=20, xgb__n_estimators=200; total time=   6.4s\n",
            "[CV] END rf__bootstrap=False, rf__n_estimators=20, xgb__n_estimators=200; total time=   6.5s\n"
          ]
        },
        {
          "output_type": "execute_result",
          "data": {
            "text/plain": [
              "GridSearchCV(cv=5,\n",
              "             estimator=VotingRegressor(estimators=[('xgb',\n",
              "                                                    XGBRegressor(verbosity=0)),\n",
              "                                                   ('rf',\n",
              "                                                    RandomForestRegressor(n_estimators=25,\n",
              "                                                                          random_state=1))]),\n",
              "             param_grid=[{'rf__n_estimators': [5, 10, 15, 20],\n",
              "                          'xgb__n_estimators': [100, 150, 200]},\n",
              "                         {'rf__bootstrap': [False],\n",
              "                          'rf__n_estimators': [5, 10, 15, 20],\n",
              "                          'xgb__n_estimators': [100, 150, 200]}],\n",
              "             return_train_score=True, scoring='neg_mean_squared_error',\n",
              "             verbose=2)"
            ]
          },
          "metadata": {},
          "execution_count": 19
        }
      ],
      "source": [
        "from sklearn.model_selection import GridSearchCV\n",
        "param_grid = [\n",
        "  {'rf__n_estimators': [5, 10, 15, 20], 'xgb__n_estimators': [100, 150, 200]},\n",
        "  {'rf__bootstrap': [False], 'rf__n_estimators': [5, 10, 15, 20], 'xgb__n_estimators': [100, 150, 200]}\n",
        "]\n",
        "grid_search = GridSearchCV(er, param_grid, cv = 5, scoring = 'neg_mean_squared_error', return_train_score = True, verbose = 2)\n",
        "grid_search.fit(x_train, y_train)"
      ]
    },
    {
      "cell_type": "code",
      "execution_count": 20,
      "metadata": {
        "colab": {
          "base_uri": "https://localhost:8080/"
        },
        "id": "TEacwbLst027",
        "outputId": "eada10bf-c69b-437a-c76b-df52c5cbb601"
      },
      "outputs": [
        {
          "output_type": "execute_result",
          "data": {
            "text/plain": [
              "{'rf__n_estimators': 15, 'xgb__n_estimators': 200}"
            ]
          },
          "metadata": {},
          "execution_count": 20
        }
      ],
      "source": [
        "grid_search.best_params_"
      ]
    },
    {
      "cell_type": "markdown",
      "metadata": {
        "id": "TyrNw27v3nt1"
      },
      "source": [
        "Using the best estimator to train the data and plot the predictions of the testing data."
      ]
    },
    {
      "cell_type": "code",
      "execution_count": 21,
      "metadata": {
        "id": "oz1JTGzBonOG"
      },
      "outputs": [],
      "source": [
        "er = grid_search.best_estimator_"
      ]
    },
    {
      "cell_type": "code",
      "execution_count": 22,
      "metadata": {
        "colab": {
          "base_uri": "https://localhost:8080/",
          "height": 374
        },
        "id": "Elaqr0jhfVLI",
        "outputId": "35bd0a82-0e73-4cd8-e958-e61f512f9c85"
      },
      "outputs": [
        {
          "output_type": "display_data",
          "data": {
            "text/plain": [
              "<Figure size 864x432 with 1 Axes>"
            ],
            "image/png": "[encoded data removed]"
          },
          "metadata": {
            "needs_background": "light"
          }
        }
      ],
      "source": [
        "er.fit(x_train, y_train)\n",
        "y_pred = er.predict(x_test)\n",
        "plt.figure(figsize=(12,6))\n",
        "y_test = y_test.reshape(-1, 1)\n",
        "y_pred = y_pred.reshape(-1, 1)\n",
        "plt.plot(sca.inverse_transform(y_test), 'b', label='Closing Price')\n",
        "plt.plot(sca.inverse_transform(y_pred), 'r', label='Predicted Closing Price')\n",
        "plt.legend()\n",
        "plt.show()"
      ]
    },
    {
      "cell_type": "markdown",
      "metadata": {
        "id": "SkX8D7lg37xC"
      },
      "source": [
        "Predicting the most recent stock value"
      ]
    },
    {
      "cell_type": "code",
      "execution_count": 23,
      "metadata": {
        "id": "gZZwu8KLvvL8"
      },
      "outputs": [],
      "source": [
        "x1 = data_testing.tail(100)\n",
        "x1 = sca.fit_transform(x1)\n",
        "x1 = x1.reshape(1, 100)\n",
        "y_pred1 = er.predict(x1)"
      ]
    },
    {
      "cell_type": "code",
      "execution_count": 24,
      "metadata": {
        "colab": {
          "base_uri": "https://localhost:8080/"
        },
        "id": "ekew6--2wwDY",
        "outputId": "4f2a9081-9943-4477-984d-902e9506edd6"
      },
      "outputs": [
        {
          "output_type": "execute_result",
          "data": {
            "text/plain": [
              "157.38328765859117"
            ]
          },
          "metadata": {},
          "execution_count": 24
        }
      ],
      "source": [
        "d = np.array([y_pred1])\n",
        "a = sca.inverse_transform(d)\n",
        "a[0, 0]"
      ]
    },
    {
      "cell_type": "markdown",
      "metadata": {
        "id": "0mfHP2Dm4CFo"
      },
      "source": [
        "Saving the trained model."
      ]
    },
    {
      "cell_type": "code",
      "execution_count": 25,
      "metadata": {
        "colab": {
          "base_uri": "https://localhost:8080/"
        },
        "id": "hgYzeeD-0sSI",
        "outputId": "46dec1ef-b295-48f6-b7bf-905dbcabd285"
      },
      "outputs": [
        {
          "output_type": "execute_result",
          "data": {
            "text/plain": [
              "['ensemble_model.sav']"
            ]
          },
          "metadata": {},
          "execution_count": 25
        }
      ],
      "source": [
        "import joblib\n",
        "joblib.dump(er, 'ensemble_model.sav')"
      ]
    }
  ],
  "metadata": {
    "colab": {
      "collapsed_sections": [],
      "name": "Stock_prediction.ipynb",
      "provenance": []
    },
    "kernelspec": {
      "display_name": "Python 3",
      "language": "python",
      "name": "python3"
    },
    "language_info": {
      "codemirror_mode": {
        "name": "ipython",
        "version": 3
      },
      "file_extension": ".py",
      "mimetype": "text/x-python",
      "name": "python",
      "nbconvert_exporter": "python",
      "pygments_lexer": "ipython3",
      "version": "3.7.6"
    }
  },
  "nbformat": 4,
  "nbformat_minor": 0
}